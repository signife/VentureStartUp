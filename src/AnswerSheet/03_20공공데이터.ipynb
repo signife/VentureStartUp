{
  "nbformat": 4,
  "nbformat_minor": 0,
  "metadata": {
    "colab": {
      "provenance": []
    },
    "kernelspec": {
      "name": "python3",
      "display_name": "Python 3"
    },
    "language_info": {
      "name": "python"
    }
  },
  "cells": [
    {
      "cell_type": "code",
      "execution_count": null,
      "metadata": {
        "id": "Oh0x-ydbTFhV"
      },
      "outputs": [],
      "source": [
        "import json"
      ]
    },
    {
      "cell_type": "code",
      "source": [
        "with open('data.json') as f:\n",
        "    data = json.load(f)\n",
        "\n",
        "data"
      ],
      "metadata": {
        "colab": {
          "base_uri": "https://localhost:8080/"
        },
        "id": "YVVnZkqzVFgb",
        "outputId": "80e0c226-d3cb-45fd-e8a1-675948c434fe"
      },
      "execution_count": null,
      "outputs": [
        {
          "output_type": "execute_result",
          "data": {
            "text/plain": [
              "{'name': '홍길동', 'birth': '0201', 'age': 30}"
            ]
          },
          "metadata": {},
          "execution_count": 6
        }
      ]
    },
    {
      "cell_type": "code",
      "source": [
        "type(data)"
      ],
      "metadata": {
        "colab": {
          "base_uri": "https://localhost:8080/"
        },
        "id": "N2W3n4nlVlPX",
        "outputId": "b61aa06e-f596-435b-adb9-18e152eaa1c0"
      },
      "execution_count": null,
      "outputs": [
        {
          "output_type": "execute_result",
          "data": {
            "text/plain": [
              "dict"
            ]
          },
          "metadata": {},
          "execution_count": 3
        }
      ]
    },
    {
      "cell_type": "code",
      "source": [
        "data['age']"
      ],
      "metadata": {
        "colab": {
          "base_uri": "https://localhost:8080/"
        },
        "id": "iAQIdFYZVni1",
        "outputId": "c8eb254c-3ca9-4bc5-9402-c5a497d47d8d"
      },
      "execution_count": null,
      "outputs": [
        {
          "output_type": "execute_result",
          "data": {
            "text/plain": [
              "30"
            ]
          },
          "metadata": {},
          "execution_count": 4
        }
      ]
    },
    {
      "cell_type": "code",
      "source": [
        "data = {'name': '홍길동', 'birth': '0201', 'age': 30}\n",
        "with open('data1.json','w') as f:\n",
        "    json.dump(data,f)"
      ],
      "metadata": {
        "id": "RUPTpikcVwQe"
      },
      "execution_count": null,
      "outputs": []
    },
    {
      "cell_type": "code",
      "source": [
        "data = {'name': '홍길동', 'birth': '0201', 'age': 30}\n",
        "\n",
        "json_data = json.dumps(data,ensure_ascii=False)\n",
        "json_data"
      ],
      "metadata": {
        "colab": {
          "base_uri": "https://localhost:8080/",
          "height": 36
        },
        "id": "J7fbE_voaKLt",
        "outputId": "5ea006a5-350f-4e6f-ee5c-2d59254db042"
      },
      "execution_count": null,
      "outputs": [
        {
          "output_type": "execute_result",
          "data": {
            "text/plain": [
              "'{\"name\": \"홍길동\", \"birth\": \"0201\", \"age\": 30}'"
            ],
            "application/vnd.google.colaboratory.intrinsic+json": {
              "type": "string"
            }
          },
          "metadata": {},
          "execution_count": 14
        }
      ]
    },
    {
      "cell_type": "code",
      "source": [
        "d = '{\"name\":\"홍길동\",\"birth\":\"0201\"}'\n",
        "data = json.loads(d)\n",
        "data"
      ],
      "metadata": {
        "colab": {
          "base_uri": "https://localhost:8080/"
        },
        "id": "UwPwQJlOWDNH",
        "outputId": "010d46d2-05ef-49b7-f4b5-edf5890fae23"
      },
      "execution_count": null,
      "outputs": [
        {
          "output_type": "execute_result",
          "data": {
            "text/plain": [
              "{'name': '홍길동', 'birth': '0201'}"
            ]
          },
          "metadata": {},
          "execution_count": 15
        }
      ]
    },
    {
      "cell_type": "code",
      "source": [
        "d = \"{'name': '홍길동', 'birth': '0201', 'age': 30}\"\n",
        "data = json.loads(d)"
      ],
      "metadata": {
        "colab": {
          "base_uri": "https://localhost:8080/",
          "height": 322
        },
        "id": "bsMnALqIZxFu",
        "outputId": "0a64acff-9a2e-4ee5-94a8-b4651c0248bb"
      },
      "execution_count": null,
      "outputs": [
        {
          "output_type": "error",
          "ename": "JSONDecodeError",
          "evalue": "Expecting property name enclosed in double quotes: line 1 column 2 (char 1)",
          "traceback": [
            "\u001b[0;31m---------------------------------------------------------------------------\u001b[0m",
            "\u001b[0;31mJSONDecodeError\u001b[0m                           Traceback (most recent call last)",
            "\u001b[0;32m<ipython-input-17-d1d5d67c32d9>\u001b[0m in \u001b[0;36m<cell line: 2>\u001b[0;34m()\u001b[0m\n\u001b[1;32m      1\u001b[0m \u001b[0md\u001b[0m \u001b[0;34m=\u001b[0m \u001b[0;34m\"{'name': '홍길동', 'birth': '0201', 'age': 30}\"\u001b[0m\u001b[0;34m\u001b[0m\u001b[0;34m\u001b[0m\u001b[0m\n\u001b[0;32m----> 2\u001b[0;31m \u001b[0mdata\u001b[0m \u001b[0;34m=\u001b[0m \u001b[0mjson\u001b[0m\u001b[0;34m.\u001b[0m\u001b[0mloads\u001b[0m\u001b[0;34m(\u001b[0m\u001b[0md\u001b[0m\u001b[0;34m)\u001b[0m\u001b[0;34m\u001b[0m\u001b[0;34m\u001b[0m\u001b[0m\n\u001b[0m",
            "\u001b[0;32m/usr/lib/python3.10/json/__init__.py\u001b[0m in \u001b[0;36mloads\u001b[0;34m(s, cls, object_hook, parse_float, parse_int, parse_constant, object_pairs_hook, **kw)\u001b[0m\n\u001b[1;32m    344\u001b[0m             \u001b[0mparse_int\u001b[0m \u001b[0;32mis\u001b[0m \u001b[0;32mNone\u001b[0m \u001b[0;32mand\u001b[0m \u001b[0mparse_float\u001b[0m \u001b[0;32mis\u001b[0m \u001b[0;32mNone\u001b[0m \u001b[0;32mand\u001b[0m\u001b[0;34m\u001b[0m\u001b[0;34m\u001b[0m\u001b[0m\n\u001b[1;32m    345\u001b[0m             parse_constant is None and object_pairs_hook is None and not kw):\n\u001b[0;32m--> 346\u001b[0;31m         \u001b[0;32mreturn\u001b[0m \u001b[0m_default_decoder\u001b[0m\u001b[0;34m.\u001b[0m\u001b[0mdecode\u001b[0m\u001b[0;34m(\u001b[0m\u001b[0ms\u001b[0m\u001b[0;34m)\u001b[0m\u001b[0;34m\u001b[0m\u001b[0;34m\u001b[0m\u001b[0m\n\u001b[0m\u001b[1;32m    347\u001b[0m     \u001b[0;32mif\u001b[0m \u001b[0mcls\u001b[0m \u001b[0;32mis\u001b[0m \u001b[0;32mNone\u001b[0m\u001b[0;34m:\u001b[0m\u001b[0;34m\u001b[0m\u001b[0;34m\u001b[0m\u001b[0m\n\u001b[1;32m    348\u001b[0m         \u001b[0mcls\u001b[0m \u001b[0;34m=\u001b[0m \u001b[0mJSONDecoder\u001b[0m\u001b[0;34m\u001b[0m\u001b[0;34m\u001b[0m\u001b[0m\n",
            "\u001b[0;32m/usr/lib/python3.10/json/decoder.py\u001b[0m in \u001b[0;36mdecode\u001b[0;34m(self, s, _w)\u001b[0m\n\u001b[1;32m    335\u001b[0m \u001b[0;34m\u001b[0m\u001b[0m\n\u001b[1;32m    336\u001b[0m         \"\"\"\n\u001b[0;32m--> 337\u001b[0;31m         \u001b[0mobj\u001b[0m\u001b[0;34m,\u001b[0m \u001b[0mend\u001b[0m \u001b[0;34m=\u001b[0m \u001b[0mself\u001b[0m\u001b[0;34m.\u001b[0m\u001b[0mraw_decode\u001b[0m\u001b[0;34m(\u001b[0m\u001b[0ms\u001b[0m\u001b[0;34m,\u001b[0m \u001b[0midx\u001b[0m\u001b[0;34m=\u001b[0m\u001b[0m_w\u001b[0m\u001b[0;34m(\u001b[0m\u001b[0ms\u001b[0m\u001b[0;34m,\u001b[0m \u001b[0;36m0\u001b[0m\u001b[0;34m)\u001b[0m\u001b[0;34m.\u001b[0m\u001b[0mend\u001b[0m\u001b[0;34m(\u001b[0m\u001b[0;34m)\u001b[0m\u001b[0;34m)\u001b[0m\u001b[0;34m\u001b[0m\u001b[0;34m\u001b[0m\u001b[0m\n\u001b[0m\u001b[1;32m    338\u001b[0m         \u001b[0mend\u001b[0m \u001b[0;34m=\u001b[0m \u001b[0m_w\u001b[0m\u001b[0;34m(\u001b[0m\u001b[0ms\u001b[0m\u001b[0;34m,\u001b[0m \u001b[0mend\u001b[0m\u001b[0;34m)\u001b[0m\u001b[0;34m.\u001b[0m\u001b[0mend\u001b[0m\u001b[0;34m(\u001b[0m\u001b[0;34m)\u001b[0m\u001b[0;34m\u001b[0m\u001b[0;34m\u001b[0m\u001b[0m\n\u001b[1;32m    339\u001b[0m         \u001b[0;32mif\u001b[0m \u001b[0mend\u001b[0m \u001b[0;34m!=\u001b[0m \u001b[0mlen\u001b[0m\u001b[0;34m(\u001b[0m\u001b[0ms\u001b[0m\u001b[0;34m)\u001b[0m\u001b[0;34m:\u001b[0m\u001b[0;34m\u001b[0m\u001b[0;34m\u001b[0m\u001b[0m\n",
            "\u001b[0;32m/usr/lib/python3.10/json/decoder.py\u001b[0m in \u001b[0;36mraw_decode\u001b[0;34m(self, s, idx)\u001b[0m\n\u001b[1;32m    351\u001b[0m         \"\"\"\n\u001b[1;32m    352\u001b[0m         \u001b[0;32mtry\u001b[0m\u001b[0;34m:\u001b[0m\u001b[0;34m\u001b[0m\u001b[0;34m\u001b[0m\u001b[0m\n\u001b[0;32m--> 353\u001b[0;31m             \u001b[0mobj\u001b[0m\u001b[0;34m,\u001b[0m \u001b[0mend\u001b[0m \u001b[0;34m=\u001b[0m \u001b[0mself\u001b[0m\u001b[0;34m.\u001b[0m\u001b[0mscan_once\u001b[0m\u001b[0;34m(\u001b[0m\u001b[0ms\u001b[0m\u001b[0;34m,\u001b[0m \u001b[0midx\u001b[0m\u001b[0;34m)\u001b[0m\u001b[0;34m\u001b[0m\u001b[0;34m\u001b[0m\u001b[0m\n\u001b[0m\u001b[1;32m    354\u001b[0m         \u001b[0;32mexcept\u001b[0m \u001b[0mStopIteration\u001b[0m \u001b[0;32mas\u001b[0m \u001b[0merr\u001b[0m\u001b[0;34m:\u001b[0m\u001b[0;34m\u001b[0m\u001b[0;34m\u001b[0m\u001b[0m\n\u001b[1;32m    355\u001b[0m             \u001b[0;32mraise\u001b[0m \u001b[0mJSONDecodeError\u001b[0m\u001b[0;34m(\u001b[0m\u001b[0;34m\"Expecting value\"\u001b[0m\u001b[0;34m,\u001b[0m \u001b[0ms\u001b[0m\u001b[0;34m,\u001b[0m \u001b[0merr\u001b[0m\u001b[0;34m.\u001b[0m\u001b[0mvalue\u001b[0m\u001b[0;34m)\u001b[0m \u001b[0;32mfrom\u001b[0m \u001b[0;32mNone\u001b[0m\u001b[0;34m\u001b[0m\u001b[0;34m\u001b[0m\u001b[0m\n",
            "\u001b[0;31mJSONDecodeError\u001b[0m: Expecting property name enclosed in double quotes: line 1 column 2 (char 1)"
          ]
        }
      ]
    },
    {
      "cell_type": "code",
      "source": [
        "import requests\n",
        "\n",
        "\n",
        "data = requests.get('http://apis.data.go.kr/1352000/ODMS_COVID_02/callCovid02Api?serviceKey=9Dc38IsXqTj6WxZBxh9g9bmnhLZmPuz7%2B%2FzdGV5C9TEGDgf3nitX4zaVkwdpk4TFm%2Frd40K2XWJQ0aMCetGMkg%3D%3D&pageNo=1&numOfRows=500&apiType=JSON&status_dt=20220318')\n",
        "\n"
      ],
      "metadata": {
        "colab": {
          "base_uri": "https://localhost:8080/",
          "height": 72
        },
        "id": "N2v89ZsEbR2I",
        "outputId": "b3cf6ced-d84d-406f-8808-81839a4c3fcb"
      },
      "execution_count": null,
      "outputs": [
        {
          "output_type": "execute_result",
          "data": {
            "text/plain": [
              "'{\"pageNo\":\"1\",\"resultCode\":\"00\",\"totalCount\":1,\"items\":[{\"accDefRate\":\"0\",\"dPntCnt\":\"0\",\"gPntCnt\":\"11781\",\"hPntCnt\":\"8657109\",\"accExamCnt\":\"22072870\",\"statusTime\":\"00:00\",\"uPntCnt\":\"0\",\"resutlNegCnt\":\"0\",\"statusDt\":\"20220318\",\"accExamCompCnt\":\"0\",\"careCnt\":\"0\"}],\"numOfRows\":\"500\",\"resultMsg\":\"NORMAL SERVICE\"}'"
            ],
            "application/vnd.google.colaboratory.intrinsic+json": {
              "type": "string"
            }
          },
          "metadata": {},
          "execution_count": 21
        }
      ]
    },
    {
      "cell_type": "code",
      "source": [
        "import json\n",
        "\n",
        "json_data = json.loads(data.text)\n",
        "json_data"
      ],
      "metadata": {
        "colab": {
          "base_uri": "https://localhost:8080/"
        },
        "id": "htnMAkdve1gD",
        "outputId": "f44ea83b-9451-4711-a21b-4aca7071bd13"
      },
      "execution_count": null,
      "outputs": [
        {
          "output_type": "execute_result",
          "data": {
            "text/plain": [
              "{'pageNo': '1',\n",
              " 'resultCode': '00',\n",
              " 'totalCount': 1,\n",
              " 'items': [{'accDefRate': '0',\n",
              "   'dPntCnt': '0',\n",
              "   'gPntCnt': '11781',\n",
              "   'hPntCnt': '8657109',\n",
              "   'accExamCnt': '22072870',\n",
              "   'statusTime': '00:00',\n",
              "   'uPntCnt': '0',\n",
              "   'resutlNegCnt': '0',\n",
              "   'statusDt': '20220318',\n",
              "   'accExamCompCnt': '0',\n",
              "   'careCnt': '0'}],\n",
              " 'numOfRows': '500',\n",
              " 'resultMsg': 'NORMAL SERVICE'}"
            ]
          },
          "metadata": {},
          "execution_count": 22
        }
      ]
    },
    {
      "cell_type": "code",
      "source": [
        "json_data['items'][0]['hPntCnt']"
      ],
      "metadata": {
        "colab": {
          "base_uri": "https://localhost:8080/",
          "height": 36
        },
        "id": "rylHhvmUhrAM",
        "outputId": "e18f7dab-1446-451a-f8e7-c37002be8e2f"
      },
      "execution_count": null,
      "outputs": [
        {
          "output_type": "execute_result",
          "data": {
            "text/plain": [
              "'8657109'"
            ],
            "application/vnd.google.colaboratory.intrinsic+json": {
              "type": "string"
            }
          },
          "metadata": {},
          "execution_count": 24
        }
      ]
    },
    {
      "cell_type": "code",
      "source": [
        "data = requests.get('http://apis.data.go.kr/1360000/TourStnInfoService1/getTourStnVilageFcst1?ServiceKey=9Dc38IsXqTj6WxZBxh9g9bmnhLZmPuz7%2B%2FzdGV5C9TEGDgf3nitX4zaVkwdpk4TFm%2Frd40K2XWJQ0aMCetGMkg%3D%3D&pageNo=1&numOfRows=1&dataType=JSON&CURRENT_DATE=2023080101&HOUR=24&COURSE_ID=80')\n",
        "data.text"
      ],
      "metadata": {
        "colab": {
          "base_uri": "https://localhost:8080/",
          "height": 73
        },
        "id": "0lQ1lytSh4_R",
        "outputId": "97477b65-a1d7-4bfc-90a1-931f7e500f9c"
      },
      "execution_count": null,
      "outputs": [
        {
          "output_type": "execute_result",
          "data": {
            "text/plain": [
              "'{\"response\":{\"header\":{\"resultCode\":\"00\",\"resultMsg\":\"NORMAL_SERVICE\"},\"body\":{\"dataType\":\"JSON\",\"items\":{\"item\":[{\"tm\":\"2024-03-17 00:00\",\"thema\":\"쇼핑/놀이\",\"courseId\":\"66\",\"courseAreaId\":\"1100000000\",\"courseAreaName\":\"서울특별시\",\"courseName\":\"첨단거리 - 강남\",\"spotAreaId\":6604,\"spotAreaName\":\"서울\",\"spotName\":\"(서울)신사동 가로수길\",\"th3\":10,\"wd\":214,\"ws\":1,\"sky\":4,\"rhm\":55,\"pop\":30}]},\"pageNo\":1,\"numOfRows\":1,\"totalCount\":128}}}'"
            ],
            "application/vnd.google.colaboratory.intrinsic+json": {
              "type": "string"
            }
          },
          "metadata": {},
          "execution_count": 29
        }
      ]
    },
    {
      "cell_type": "code",
      "source": [],
      "metadata": {
        "colab": {
          "base_uri": "https://localhost:8080/",
          "height": 36
        },
        "id": "DoqqGPsooYgV",
        "outputId": "d1e2d736-0a7f-4b8f-90df-dbd725a04c8a"
      },
      "execution_count": null,
      "outputs": [
        {
          "output_type": "execute_result",
          "data": {
            "text/plain": [
              "'10'"
            ],
            "application/vnd.google.colaboratory.intrinsic+json": {
              "type": "string"
            }
          },
          "metadata": {},
          "execution_count": 34
        }
      ]
    },
    {
      "cell_type": "code",
      "source": [
        "'1'.zfill(2)"
      ],
      "metadata": {
        "colab": {
          "base_uri": "https://localhost:8080/",
          "height": 36
        },
        "id": "0Fth66zXsBPi",
        "outputId": "2daf4436-11cd-463a-f503-a834d19d0d56"
      },
      "execution_count": null,
      "outputs": [
        {
          "output_type": "execute_result",
          "data": {
            "text/plain": [
              "'01'"
            ],
            "application/vnd.google.colaboratory.intrinsic+json": {
              "type": "string"
            }
          },
          "metadata": {},
          "execution_count": 36
        }
      ]
    },
    {
      "cell_type": "code",
      "source": [
        "total = 0\n",
        "for temp in range(1,32):\n",
        "    temp = str(temp)\n",
        "    temp = temp.zfill(2)\n",
        "    temp = '202308{0}12'.format(temp)\n",
        "\n",
        "    data = requests.get('http://apis.data.go.kr/1360000/TourStnInfoService1/getTourStnVilageFcst1?ServiceKey=9Dc38IsXqTj6WxZBxh9g9bmnhLZmPuz7%2B%2FzdGV5C9TEGDgf3nitX4zaVkwdpk4TFm%2Frd40K2XWJQ0aMCetGMkg%3D%3D&pageNo=1&numOfRows=1&dataType=JSON&CURRENT_DATE={0}&HOUR=24&COURSE_ID=80'.format(temp))\n",
        "    jsondata = json.loads(data.text)\n",
        "    th = jsondata['response']['body']['items']['item'][0]['th3']\n",
        "    total += th\n",
        "    print(temp+'   기온'+str(th))\n",
        "total/31"
      ],
      "metadata": {
        "colab": {
          "base_uri": "https://localhost:8080/"
        },
        "id": "7JRnQSEltagq",
        "outputId": "98aa1159-be83-49a3-b171-da5d45caeaf3"
      },
      "execution_count": null,
      "outputs": [
        {
          "output_type": "stream",
          "name": "stdout",
          "text": [
            "2023080112   기온31\n",
            "2023080212   기온31\n",
            "2023080312   기온32\n",
            "2023080412   기온29\n",
            "2023080512   기온27\n",
            "2023080612   기온26\n",
            "2023080712   기온25\n",
            "2023080812   기온25\n",
            "2023080912   기온27\n",
            "2023081012   기온27\n",
            "2023081112   기온25\n",
            "2023081212   기온25\n",
            "2023081312   기온23\n",
            "2023081412   기온23\n",
            "2023081512   기온25\n",
            "2023081612   기온26\n",
            "2023081712   기온26\n",
            "2023081812   기온25\n",
            "2023081912   기온25\n",
            "2023082012   기온29\n",
            "2023082112   기온28\n",
            "2023082212   기온24\n",
            "2023082312   기온26\n",
            "2023082412   기온26\n",
            "2023082512   기온23\n",
            "2023082612   기온21\n",
            "2023082712   기온26\n",
            "2023082812   기온23\n",
            "2023082912   기온22\n",
            "2023083012   기온25\n",
            "2023083112   기온25\n"
          ]
        },
        {
          "output_type": "execute_result",
          "data": {
            "text/plain": [
              "25.838709677419356"
            ]
          },
          "metadata": {},
          "execution_count": 44
        }
      ]
    },
    {
      "cell_type": "code",
      "source": [],
      "metadata": {
        "id": "LtTecfRkteQU"
      },
      "execution_count": null,
      "outputs": []
    }
  ]
}