{
  "nbformat": 4,
  "nbformat_minor": 0,
  "metadata": {
    "colab": {
      "provenance": []
    },
    "kernelspec": {
      "name": "python3",
      "display_name": "Python 3"
    },
    "language_info": {
      "name": "python"
    }
  },
  "cells": [
    {
      "cell_type": "code",
      "execution_count": null,
      "metadata": {
        "colab": {
          "base_uri": "https://localhost:8080/"
        },
        "id": "jyry-Ya1eaqU",
        "outputId": "025e3b02-8dd1-498c-df08-85cc68f49cae"
      },
      "outputs": [
        {
          "output_type": "stream",
          "name": "stdout",
          "text": [
            "Collecting konlpy\n",
            "  Downloading konlpy-0.6.0-py2.py3-none-any.whl (19.4 MB)\n",
            "\u001b[2K     \u001b[90m━━━━━━━━━━━━━━━━━━━━━━━━━━━━━━━━━━━━━━━━\u001b[0m \u001b[32m19.4/19.4 MB\u001b[0m \u001b[31m28.1 MB/s\u001b[0m eta \u001b[36m0:00:00\u001b[0m\n",
            "\u001b[?25hCollecting JPype1>=0.7.0 (from konlpy)\n",
            "  Downloading JPype1-1.5.0-cp310-cp310-manylinux_2_17_x86_64.manylinux2014_x86_64.whl (488 kB)\n",
            "\u001b[2K     \u001b[90m━━━━━━━━━━━━━━━━━━━━━━━━━━━━━━━━━━━━━━━━\u001b[0m \u001b[32m488.6/488.6 kB\u001b[0m \u001b[31m25.5 MB/s\u001b[0m eta \u001b[36m0:00:00\u001b[0m\n",
            "\u001b[?25hRequirement already satisfied: lxml>=4.1.0 in /usr/local/lib/python3.10/dist-packages (from konlpy) (4.9.4)\n",
            "Requirement already satisfied: numpy>=1.6 in /usr/local/lib/python3.10/dist-packages (from konlpy) (1.25.2)\n",
            "Requirement already satisfied: packaging in /usr/local/lib/python3.10/dist-packages (from JPype1>=0.7.0->konlpy) (24.0)\n",
            "Installing collected packages: JPype1, konlpy\n",
            "Successfully installed JPype1-1.5.0 konlpy-0.6.0\n"
          ]
        }
      ],
      "source": [
        "!pip install konlpy"
      ]
    },
    {
      "cell_type": "code",
      "source": [
        "from konlpy.tag import  Okt\n",
        "\n",
        "data = '''\n",
        "3일(현지 시간) 블룸버그통신은 애플이 개인 로봇 분야 진출을 위한 조사에 나섰다고 보도했다. 블룸버그는 “아직 초기 단계로 로봇이 실제 출시될지는 미지수지만 전기차 프로젝트를 폐기한 애플이 새 수익원을 찾기 위해 점점 더 많은 압력을 받고 있다”고 했다.\n",
        "\n",
        "애플 로봇 프로젝트는 극초기 단계로 매우 비밀스럽게 진행되고 있다고 한다. 담당 부서는 하드웨어 엔지니어링과 AI·머신러닝 그룹으로, 아직 정식 프로젝트로 승격되지 않은 ‘초기 연구단계’인 것으로 알려졌다.\n",
        "\n",
        "프로젝트 참여 인원은 점점 확대되고 있는 것으로 보인다. 최근 폐쇄한 전기차 개발 인원 일부가 로봇 분야로 전보된데다 애플이 로봇 관련 직무를 채용 중이기도 하다. 블룸버그는 “로봇은 자율주행차처럼 사람 개입 없이 스스로 탐색할 수 있는 장치로 전기차와 유사점이 있다”며 “애플이 ‘복잡한 지능형 로봇 시스템과 경험을 연구 개발하는 데 도움을 줄 머신러닝·로봇공학자’를 찾고 있다”고 전했다.\n",
        "\n",
        "애플이 구상하는 가정용 로봇은 ‘스마트홈 기기’에 가까운 것으로 보인다. 로봇에 최적화한 스마트 디스플레이를 탑재하고 이동 가능하며, 음성 인식 등 AI와 사물인터넷(IoT) 기능을 갖춘 모습이 그려진다. 블룸버그는 “전기차 프로젝트 취소 전 애플은 회사의 미래가 자동차, 가정, 혼합현실 등 세 분야로 전개될 것이라고 말해왔다”며 “자동차 사업이 취소되고 비전프로가 등장한 만큼 스마트홈 시장에 초점이 맞춰지고 있다”고 했다.\n",
        "'''\n",
        "\n"
      ],
      "metadata": {
        "id": "xXgHmw-dfdT9"
      },
      "execution_count": null,
      "outputs": []
    },
    {
      "cell_type": "code",
      "source": [
        "okt = Okt()\n",
        "text = okt.nouns(data)\n",
        "text"
      ],
      "metadata": {
        "colab": {
          "base_uri": "https://localhost:8080/"
        },
        "id": "3sfPcTDCgEY1",
        "outputId": "333edb5e-3029-423a-f3ac-c4d816f982cf"
      },
      "execution_count": null,
      "outputs": [
        {
          "output_type": "execute_result",
          "data": {
            "text/plain": [
              "['현지',\n",
              " '시간',\n",
              " '블룸버그',\n",
              " '통신',\n",
              " '애플',\n",
              " '개인',\n",
              " '로봇',\n",
              " '분야',\n",
              " '진출',\n",
              " '위',\n",
              " '조사',\n",
              " '보도',\n",
              " '블룸버그',\n",
              " '초기',\n",
              " '단계',\n",
              " '로봇',\n",
              " '실제',\n",
              " '출시',\n",
              " '미지수',\n",
              " '전기차',\n",
              " '프로젝트',\n",
              " '폐기',\n",
              " '애플',\n",
              " '새',\n",
              " '수익',\n",
              " '찾기',\n",
              " '위해',\n",
              " '점점',\n",
              " '더',\n",
              " '압력',\n",
              " '고',\n",
              " '애플',\n",
              " '로봇',\n",
              " '프로젝트',\n",
              " '초기',\n",
              " '단계',\n",
              " '매우',\n",
              " '비밀',\n",
              " '진행',\n",
              " '담당',\n",
              " '부서',\n",
              " '하드웨어',\n",
              " '엔지니어링',\n",
              " '머신',\n",
              " '러닝',\n",
              " '그룹',\n",
              " '정식',\n",
              " '프로젝트',\n",
              " '승격',\n",
              " '초기',\n",
              " '연구',\n",
              " '단계',\n",
              " '인',\n",
              " '것',\n",
              " '프로젝트',\n",
              " '참여',\n",
              " '인원',\n",
              " '점점',\n",
              " '확대',\n",
              " '것',\n",
              " '최근',\n",
              " '폐쇄',\n",
              " '전기차',\n",
              " '개발',\n",
              " '인원',\n",
              " '일부',\n",
              " '로봇',\n",
              " '분야',\n",
              " '전보',\n",
              " '애플',\n",
              " '로봇',\n",
              " '관련',\n",
              " '직무',\n",
              " '채용',\n",
              " '중',\n",
              " '블룸버그',\n",
              " '로봇',\n",
              " '자율',\n",
              " '행차',\n",
              " '사람',\n",
              " '개입',\n",
              " '스스로',\n",
              " '탐색',\n",
              " '수',\n",
              " '장치',\n",
              " '전기차',\n",
              " '유사',\n",
              " '점',\n",
              " '며',\n",
              " '애플',\n",
              " '지능',\n",
              " '로봇',\n",
              " '시스템',\n",
              " '경험',\n",
              " '연구',\n",
              " '개발',\n",
              " '데',\n",
              " '도움',\n",
              " '줄',\n",
              " '머신',\n",
              " '러닝',\n",
              " '로봇공학자',\n",
              " '를',\n",
              " '고',\n",
              " '전',\n",
              " '애플',\n",
              " '구상',\n",
              " '가정',\n",
              " '용',\n",
              " '로봇',\n",
              " '스마트홈',\n",
              " '기기',\n",
              " '것',\n",
              " '로봇',\n",
              " '최적화',\n",
              " '스마트',\n",
              " '디스플레이',\n",
              " '탑재',\n",
              " '이동',\n",
              " '음성',\n",
              " '인식',\n",
              " '등',\n",
              " '사물인터넷',\n",
              " '기능',\n",
              " '모습',\n",
              " '블룸버그',\n",
              " '전기차',\n",
              " '프로젝트',\n",
              " '취소',\n",
              " '전',\n",
              " '애플',\n",
              " '회사',\n",
              " '미래',\n",
              " '자동차',\n",
              " '가정',\n",
              " '혼합',\n",
              " '현실',\n",
              " '등',\n",
              " '세',\n",
              " '분야',\n",
              " '전개',\n",
              " '것',\n",
              " '말',\n",
              " '며',\n",
              " '자동차',\n",
              " '사업',\n",
              " '취소',\n",
              " '프로',\n",
              " '등장',\n",
              " '만큼',\n",
              " '스마트홈',\n",
              " '시장',\n",
              " '초점',\n",
              " '고']"
            ]
          },
          "metadata": {},
          "execution_count": 4
        }
      ]
    },
    {
      "cell_type": "code",
      "source": [
        "from collections import Counter\n",
        "\n",
        "word_freq = Counter(text)\n",
        "word_freq"
      ],
      "metadata": {
        "colab": {
          "base_uri": "https://localhost:8080/"
        },
        "id": "taGkWX2JgTNT",
        "outputId": "7493e0f7-8b63-41ba-89b7-92d2a23d93ef"
      },
      "execution_count": null,
      "outputs": [
        {
          "output_type": "execute_result",
          "data": {
            "text/plain": [
              "Counter({'현지': 1,\n",
              "         '시간': 1,\n",
              "         '블룸버그': 4,\n",
              "         '통신': 1,\n",
              "         '애플': 7,\n",
              "         '개인': 1,\n",
              "         '로봇': 9,\n",
              "         '분야': 3,\n",
              "         '진출': 1,\n",
              "         '위': 1,\n",
              "         '조사': 1,\n",
              "         '보도': 1,\n",
              "         '초기': 3,\n",
              "         '단계': 3,\n",
              "         '실제': 1,\n",
              "         '출시': 1,\n",
              "         '미지수': 1,\n",
              "         '전기차': 4,\n",
              "         '프로젝트': 5,\n",
              "         '폐기': 1,\n",
              "         '새': 1,\n",
              "         '수익': 1,\n",
              "         '찾기': 1,\n",
              "         '위해': 1,\n",
              "         '점점': 2,\n",
              "         '더': 1,\n",
              "         '압력': 1,\n",
              "         '고': 3,\n",
              "         '매우': 1,\n",
              "         '비밀': 1,\n",
              "         '진행': 1,\n",
              "         '담당': 1,\n",
              "         '부서': 1,\n",
              "         '하드웨어': 1,\n",
              "         '엔지니어링': 1,\n",
              "         '머신': 2,\n",
              "         '러닝': 2,\n",
              "         '그룹': 1,\n",
              "         '정식': 1,\n",
              "         '승격': 1,\n",
              "         '연구': 2,\n",
              "         '인': 1,\n",
              "         '것': 4,\n",
              "         '참여': 1,\n",
              "         '인원': 2,\n",
              "         '확대': 1,\n",
              "         '최근': 1,\n",
              "         '폐쇄': 1,\n",
              "         '개발': 2,\n",
              "         '일부': 1,\n",
              "         '전보': 1,\n",
              "         '관련': 1,\n",
              "         '직무': 1,\n",
              "         '채용': 1,\n",
              "         '중': 1,\n",
              "         '자율': 1,\n",
              "         '행차': 1,\n",
              "         '사람': 1,\n",
              "         '개입': 1,\n",
              "         '스스로': 1,\n",
              "         '탐색': 1,\n",
              "         '수': 1,\n",
              "         '장치': 1,\n",
              "         '유사': 1,\n",
              "         '점': 1,\n",
              "         '며': 2,\n",
              "         '지능': 1,\n",
              "         '시스템': 1,\n",
              "         '경험': 1,\n",
              "         '데': 1,\n",
              "         '도움': 1,\n",
              "         '줄': 1,\n",
              "         '로봇공학자': 1,\n",
              "         '를': 1,\n",
              "         '전': 2,\n",
              "         '구상': 1,\n",
              "         '가정': 2,\n",
              "         '용': 1,\n",
              "         '스마트홈': 2,\n",
              "         '기기': 1,\n",
              "         '최적화': 1,\n",
              "         '스마트': 1,\n",
              "         '디스플레이': 1,\n",
              "         '탑재': 1,\n",
              "         '이동': 1,\n",
              "         '음성': 1,\n",
              "         '인식': 1,\n",
              "         '등': 2,\n",
              "         '사물인터넷': 1,\n",
              "         '기능': 1,\n",
              "         '모습': 1,\n",
              "         '취소': 2,\n",
              "         '회사': 1,\n",
              "         '미래': 1,\n",
              "         '자동차': 2,\n",
              "         '혼합': 1,\n",
              "         '현실': 1,\n",
              "         '세': 1,\n",
              "         '전개': 1,\n",
              "         '말': 1,\n",
              "         '사업': 1,\n",
              "         '프로': 1,\n",
              "         '등장': 1,\n",
              "         '만큼': 1,\n",
              "         '시장': 1,\n",
              "         '초점': 1})"
            ]
          },
          "metadata": {},
          "execution_count": 5
        }
      ]
    },
    {
      "cell_type": "code",
      "source": [
        "word_cleaned = [ (w,c) for w,c in word_freq.items() if c>1 ]\n",
        "word_cleaned"
      ],
      "metadata": {
        "colab": {
          "base_uri": "https://localhost:8080/"
        },
        "id": "EoeEYlQghcHj",
        "outputId": "a1219fbf-38f7-4d61-bcde-0c4eb8057d94"
      },
      "execution_count": null,
      "outputs": [
        {
          "output_type": "execute_result",
          "data": {
            "text/plain": [
              "[('블룸버그', 4),\n",
              " ('애플', 7),\n",
              " ('로봇', 9),\n",
              " ('분야', 3),\n",
              " ('초기', 3),\n",
              " ('단계', 3),\n",
              " ('전기차', 4),\n",
              " ('프로젝트', 5),\n",
              " ('점점', 2),\n",
              " ('고', 3),\n",
              " ('머신', 2),\n",
              " ('러닝', 2),\n",
              " ('연구', 2),\n",
              " ('것', 4),\n",
              " ('인원', 2),\n",
              " ('개발', 2),\n",
              " ('며', 2),\n",
              " ('전', 2),\n",
              " ('가정', 2),\n",
              " ('스마트홈', 2),\n",
              " ('등', 2),\n",
              " ('취소', 2),\n",
              " ('자동차', 2)]"
            ]
          },
          "metadata": {},
          "execution_count": 7
        }
      ]
    },
    {
      "cell_type": "code",
      "source": [
        "word_cleaned.sort(key=lambda x: x[1], reverse=True )\n",
        "word_cleaned"
      ],
      "metadata": {
        "colab": {
          "base_uri": "https://localhost:8080/"
        },
        "id": "x9S1NrXYhsqT",
        "outputId": "4e9e74b8-fcef-4d06-9413-9b73eed38b39"
      },
      "execution_count": null,
      "outputs": [
        {
          "output_type": "execute_result",
          "data": {
            "text/plain": [
              "[('로봇', 9),\n",
              " ('애플', 7),\n",
              " ('프로젝트', 5),\n",
              " ('블룸버그', 4),\n",
              " ('전기차', 4),\n",
              " ('것', 4),\n",
              " ('분야', 3),\n",
              " ('초기', 3),\n",
              " ('단계', 3),\n",
              " ('고', 3),\n",
              " ('점점', 2),\n",
              " ('머신', 2),\n",
              " ('러닝', 2),\n",
              " ('연구', 2),\n",
              " ('인원', 2),\n",
              " ('개발', 2),\n",
              " ('며', 2),\n",
              " ('전', 2),\n",
              " ('가정', 2),\n",
              " ('스마트홈', 2),\n",
              " ('등', 2),\n",
              " ('취소', 2),\n",
              " ('자동차', 2)]"
            ]
          },
          "metadata": {},
          "execution_count": 8
        }
      ]
    },
    {
      "cell_type": "code",
      "source": [
        "d = [1,2,3,4,5]\n",
        "\n",
        "for temp,temp1 in enumerate(d):\n",
        "    print(temp,temp1)\n"
      ],
      "metadata": {
        "colab": {
          "base_uri": "https://localhost:8080/"
        },
        "id": "ALYkk9X-jUTD",
        "outputId": "377eec7e-9b73-4a27-b0c9-a051391ec469"
      },
      "execution_count": null,
      "outputs": [
        {
          "output_type": "stream",
          "name": "stdout",
          "text": [
            "0 1\n",
            "1 2\n",
            "2 3\n",
            "3 4\n",
            "4 5\n"
          ]
        }
      ]
    },
    {
      "cell_type": "code",
      "source": [
        "word_to_index = {}\n",
        "\n",
        "for index,word in enumerate(word_cleaned):\n",
        "    word_to_index[word[0]] = index+1\n",
        "\n",
        "word_to_index"
      ],
      "metadata": {
        "colab": {
          "base_uri": "https://localhost:8080/"
        },
        "id": "O5Ys9ojejJK0",
        "outputId": "351d3622-ea87-428c-9cf8-51980a443d49"
      },
      "execution_count": null,
      "outputs": [
        {
          "output_type": "execute_result",
          "data": {
            "text/plain": [
              "{'로봇': 1,\n",
              " '애플': 2,\n",
              " '프로젝트': 3,\n",
              " '블룸버그': 4,\n",
              " '전기차': 5,\n",
              " '것': 6,\n",
              " '분야': 7,\n",
              " '초기': 8,\n",
              " '단계': 9,\n",
              " '고': 10,\n",
              " '점점': 11,\n",
              " '머신': 12,\n",
              " '러닝': 13,\n",
              " '연구': 14,\n",
              " '인원': 15,\n",
              " '개발': 16,\n",
              " '며': 17,\n",
              " '전': 18,\n",
              " '가정': 19,\n",
              " '스마트홈': 20,\n",
              " '등': 21,\n",
              " '취소': 22,\n",
              " '자동차': 23}"
            ]
          },
          "metadata": {},
          "execution_count": 12
        }
      ]
    },
    {
      "cell_type": "code",
      "source": [
        "word_to_index = { word[0] : index+1  for index,word in enumerate(word_cleaned) }\n",
        "word_to_index"
      ],
      "metadata": {
        "colab": {
          "base_uri": "https://localhost:8080/"
        },
        "id": "fSRUeatzhxj8",
        "outputId": "8fdabc3f-30cb-41a4-8237-c214f701f5d3"
      },
      "execution_count": null,
      "outputs": [
        {
          "output_type": "execute_result",
          "data": {
            "text/plain": [
              "{'로봇': 1,\n",
              " '애플': 2,\n",
              " '프로젝트': 3,\n",
              " '블룸버그': 4,\n",
              " '전기차': 5,\n",
              " '것': 6,\n",
              " '분야': 7,\n",
              " '초기': 8,\n",
              " '단계': 9,\n",
              " '고': 10,\n",
              " '점점': 11,\n",
              " '머신': 12,\n",
              " '러닝': 13,\n",
              " '연구': 14,\n",
              " '인원': 15,\n",
              " '개발': 16,\n",
              " '며': 17,\n",
              " '전': 18,\n",
              " '가정': 19,\n",
              " '스마트홈': 20,\n",
              " '등': 21,\n",
              " '취소': 22,\n",
              " '자동차': 23}"
            ]
          },
          "metadata": {},
          "execution_count": 9
        }
      ]
    },
    {
      "cell_type": "code",
      "source": [
        "sentence = \"애플이 구상하는 가정용 로봇은 ‘스마트홈 기기’에 가까운 것으로 보인다.\"\n",
        "\n",
        "sen_data = okt.nouns(sentence)\n",
        "sen_data\n",
        "\n",
        "sen_list = []\n",
        "for temp in sen_data:\n",
        "    if temp in word_to_index:\n",
        "        sen_list.append(word_to_index[temp])\n",
        "\n",
        "sen_list\n"
      ],
      "metadata": {
        "colab": {
          "base_uri": "https://localhost:8080/"
        },
        "id": "3KC3Zr7ijByk",
        "outputId": "9cd75df3-51f8-424d-80dc-dfc7b8bc1d0d"
      },
      "execution_count": null,
      "outputs": [
        {
          "output_type": "execute_result",
          "data": {
            "text/plain": [
              "[2, 19, 1, 20, 6]"
            ]
          },
          "metadata": {},
          "execution_count": 14
        }
      ]
    },
    {
      "cell_type": "code",
      "source": [
        "from nltk.tokenize import sent_tokenize\n",
        "from nltk.tokenize import word_tokenize\n",
        "from nltk.corpus import stopwords\n",
        "import nltk\n",
        "\n",
        "nltk.download('punkt')\n",
        "nltk.download('stopwords')\n",
        "\n",
        "text_data = '''\n",
        "A barber is a person. a barber is good person.\n",
        "a barber is huge person. he Knew A Secret! The Secret\n",
        "He Kept is huge secret. Huge secret. His barber kept his word.\n",
        "a barber kept his word. His barber kept his secret.\n",
        "But keeping and keeping such a huge secret to himself was\n",
        "driving the barber crazy. the barber went up a huge mountain.\n",
        "'''"
      ],
      "metadata": {
        "colab": {
          "base_uri": "https://localhost:8080/"
        },
        "id": "fTTGvdogke2E",
        "outputId": "d1342f6a-3ab9-443a-e80c-220327a4365d"
      },
      "execution_count": null,
      "outputs": [
        {
          "output_type": "stream",
          "name": "stderr",
          "text": [
            "[nltk_data] Downloading package punkt to /root/nltk_data...\n",
            "[nltk_data]   Unzipping tokenizers/punkt.zip.\n",
            "[nltk_data] Downloading package stopwords to /root/nltk_data...\n",
            "[nltk_data]   Unzipping corpora/stopwords.zip.\n"
          ]
        }
      ]
    },
    {
      "cell_type": "code",
      "source": [
        "sentences = sent_tokenize(text_data)\n",
        "sentences"
      ],
      "metadata": {
        "colab": {
          "base_uri": "https://localhost:8080/"
        },
        "id": "I7fCh7k6pRjs",
        "outputId": "ec4d3781-6b36-4691-a3e4-b032e1d4900a"
      },
      "execution_count": null,
      "outputs": [
        {
          "output_type": "execute_result",
          "data": {
            "text/plain": [
              "['\\nA barber is a person.',\n",
              " 'a barber is good person.',\n",
              " 'a barber is huge person.',\n",
              " 'he Knew A Secret!',\n",
              " 'The Secret\\nHe Kept is huge secret.',\n",
              " 'Huge secret.',\n",
              " 'His barber kept his word.',\n",
              " 'a barber kept his word.',\n",
              " 'His barber kept his secret.',\n",
              " 'But keeping and keeping such a huge secret to himself was\\ndriving the barber crazy.',\n",
              " 'the barber went up a huge mountain.']"
            ]
          },
          "metadata": {},
          "execution_count": 16
        }
      ]
    },
    {
      "cell_type": "code",
      "source": [],
      "metadata": {
        "colab": {
          "base_uri": "https://localhost:8080/",
          "height": 121
        },
        "id": "nw6lrrX-q6zr",
        "outputId": "64c572ab-21b0-4dad-addd-922ffbb29efb"
      },
      "execution_count": null,
      "outputs": [
        {
          "output_type": "execute_result",
          "data": {
            "text/plain": [
              "<bound method WordListCorpusReader.words of <WordListCorpusReader in '/root/nltk_data/corpora/stopwords'>>"
            ],
            "text/html": [
              "<div style=\"max-width:800px; border: 1px solid var(--colab-border-color);\"><style>\n",
              "      pre.function-repr-contents {\n",
              "        overflow-x: auto;\n",
              "        padding: 8px 12px;\n",
              "        max-height: 500px;\n",
              "      }\n",
              "\n",
              "      pre.function-repr-contents.function-repr-contents-collapsed {\n",
              "        cursor: pointer;\n",
              "        max-height: 100px;\n",
              "      }\n",
              "    </style>\n",
              "    <pre style=\"white-space: initial; background:\n",
              "         var(--colab-secondary-surface-color); padding: 8px 12px;\n",
              "         border-bottom: 1px solid var(--colab-border-color);\"><b>nltk.corpus.reader.wordlist.WordListCorpusReader.words</b><br/>def words(fileids=None, ignore_lines_startswith=&#x27;\\n&#x27;)</pre><pre class=\"function-repr-contents function-repr-contents-collapsed\" style=\"\"><a class=\"filepath\" style=\"display:none\" href=\"#\">/usr/local/lib/python3.10/dist-packages/nltk/corpus/reader/wordlist.py</a>&lt;no docstring&gt;</pre>\n",
              "      <script>\n",
              "      if (google.colab.kernel.accessAllowed && google.colab.files && google.colab.files.view) {\n",
              "        for (const element of document.querySelectorAll('.filepath')) {\n",
              "          element.style.display = 'block'\n",
              "          element.onclick = (event) => {\n",
              "            event.preventDefault();\n",
              "            event.stopPropagation();\n",
              "            google.colab.files.view(element.textContent, 18);\n",
              "          };\n",
              "        }\n",
              "      }\n",
              "      for (const element of document.querySelectorAll('.function-repr-contents')) {\n",
              "        element.onclick = (event) => {\n",
              "          event.preventDefault();\n",
              "          event.stopPropagation();\n",
              "          element.classList.toggle('function-repr-contents-collapsed');\n",
              "        };\n",
              "      }\n",
              "      </script>\n",
              "      </div>"
            ]
          },
          "metadata": {},
          "execution_count": 20
        }
      ]
    },
    {
      "cell_type": "code",
      "source": [
        "vocab = {}\n",
        "p_sentences = []\n",
        "stop_words = set(stopwords.words('english'))\n",
        "\n",
        "for sentence in sentences:\n",
        "    tokenize_sentence = word_tokenize(sentence)\n",
        "\n",
        "    result = []\n",
        "    for word in tokenize_sentence:\n",
        "        word = word.lower()\n",
        "        if word not in stop_words:\n",
        "            if len(word) > 2:\n",
        "                result.append(word)\n",
        "                if word not in vocab:\n",
        "                    vocab[word] = 0\n",
        "\n",
        "                vocab[word] += 1\n",
        "    p_sentences.append(result)\n",
        "\n",
        "print(p_sentences)\n",
        "print(vocab)"
      ],
      "metadata": {
        "colab": {
          "base_uri": "https://localhost:8080/"
        },
        "id": "CgzW0uQnpuOq",
        "outputId": "215f3f5c-ec4c-416e-b848-27de6471f574"
      },
      "execution_count": null,
      "outputs": [
        {
          "output_type": "stream",
          "name": "stdout",
          "text": [
            "[['barber', 'person'], ['barber', 'good', 'person'], ['barber', 'huge', 'person'], ['knew', 'secret'], ['secret', 'kept', 'huge', 'secret'], ['huge', 'secret'], ['barber', 'kept', 'word'], ['barber', 'kept', 'word'], ['barber', 'kept', 'secret'], ['keeping', 'keeping', 'huge', 'secret', 'driving', 'barber', 'crazy'], ['barber', 'went', 'huge', 'mountain']]\n",
            "{'barber': 8, 'person': 3, 'good': 1, 'huge': 5, 'knew': 1, 'secret': 6, 'kept': 4, 'word': 2, 'keeping': 2, 'driving': 1, 'crazy': 1, 'went': 1, 'mountain': 1}\n"
          ]
        }
      ]
    },
    {
      "cell_type": "code",
      "source": [
        "vocab_sort = sorted(vocab.items(), key=lambda x:x[1], reverse=True)\n",
        "vocab_sort"
      ],
      "metadata": {
        "colab": {
          "base_uri": "https://localhost:8080/"
        },
        "id": "LsWN5ToWpjiq",
        "outputId": "465c9f50-c1c9-43a8-ab53-9adae443533f"
      },
      "execution_count": null,
      "outputs": [
        {
          "output_type": "execute_result",
          "data": {
            "text/plain": [
              "[('barber', 8),\n",
              " ('secret', 6),\n",
              " ('huge', 5),\n",
              " ('kept', 4),\n",
              " ('person', 3),\n",
              " ('word', 2),\n",
              " ('keeping', 2),\n",
              " ('good', 1),\n",
              " ('knew', 1),\n",
              " ('driving', 1),\n",
              " ('crazy', 1),\n",
              " ('went', 1),\n",
              " ('mountain', 1)]"
            ]
          },
          "metadata": {},
          "execution_count": 25
        }
      ]
    },
    {
      "cell_type": "code",
      "source": [
        "word_to_index = {}\n",
        "\n",
        "for index,word in enumerate(vocab_sort):\n",
        "    if word[1] > 1:\n",
        "        word_to_index[word[0]] = index+1\n",
        "\n",
        "word_to_index\n"
      ],
      "metadata": {
        "colab": {
          "base_uri": "https://localhost:8080/"
        },
        "id": "UhXdOrpetMZq",
        "outputId": "329e4559-da6d-4d64-c712-3842ad77d496"
      },
      "execution_count": null,
      "outputs": [
        {
          "output_type": "execute_result",
          "data": {
            "text/plain": [
              "{'barber': 1,\n",
              " 'secret': 2,\n",
              " 'huge': 3,\n",
              " 'kept': 4,\n",
              " 'person': 5,\n",
              " 'word': 6,\n",
              " 'keeping': 7}"
            ]
          },
          "metadata": {},
          "execution_count": 26
        }
      ]
    },
    {
      "cell_type": "code",
      "source": [
        "word_to_index['OVV'] = len(word_to_index) + 1\n",
        "word_to_index"
      ],
      "metadata": {
        "colab": {
          "base_uri": "https://localhost:8080/"
        },
        "id": "eEmzUNI1t-kj",
        "outputId": "ea1c27f3-30a5-4acc-98a9-d2cd24dc3a57"
      },
      "execution_count": null,
      "outputs": [
        {
          "output_type": "execute_result",
          "data": {
            "text/plain": [
              "{'barber': 1,\n",
              " 'secret': 2,\n",
              " 'huge': 3,\n",
              " 'kept': 4,\n",
              " 'person': 5,\n",
              " 'word': 6,\n",
              " 'keeping': 7,\n",
              " 'OVV': 8}"
            ]
          },
          "metadata": {},
          "execution_count": 27
        }
      ]
    },
    {
      "cell_type": "code",
      "source": [
        "p_sentences"
      ],
      "metadata": {
        "colab": {
          "base_uri": "https://localhost:8080/"
        },
        "id": "AVbXVG_yuXmD",
        "outputId": "757624e3-a2ad-438d-bb04-e6d9ad05d46d"
      },
      "execution_count": null,
      "outputs": [
        {
          "output_type": "execute_result",
          "data": {
            "text/plain": [
              "[['barber', 'person'],\n",
              " ['barber', 'good', 'person'],\n",
              " ['barber', 'huge', 'person'],\n",
              " ['knew', 'secret'],\n",
              " ['secret', 'kept', 'huge', 'secret'],\n",
              " ['huge', 'secret'],\n",
              " ['barber', 'kept', 'word'],\n",
              " ['barber', 'kept', 'word'],\n",
              " ['barber', 'kept', 'secret'],\n",
              " ['keeping', 'keeping', 'huge', 'secret', 'driving', 'barber', 'crazy'],\n",
              " ['barber', 'went', 'huge', 'mountain']]"
            ]
          },
          "metadata": {},
          "execution_count": 28
        }
      ]
    },
    {
      "cell_type": "code",
      "source": [
        "encoded_sentences = []\n",
        "\n",
        "for sentence in p_sentences:\n",
        "    result = []\n",
        "    for word in sentence:\n",
        "        if word in word_to_index:\n",
        "            result.append(word_to_index[word])\n",
        "        else:\n",
        "            result.append(word_to_index['OVV'])\n",
        "\n",
        "    encoded_sentences.append(result)\n",
        "\n",
        "encoded_sentences\n"
      ],
      "metadata": {
        "colab": {
          "base_uri": "https://localhost:8080/"
        },
        "id": "AmPgjHpvutAc",
        "outputId": "9b0207cd-6854-484e-bd2b-6b67847507a1"
      },
      "execution_count": null,
      "outputs": [
        {
          "output_type": "execute_result",
          "data": {
            "text/plain": [
              "[[1, 5],\n",
              " [1, 8, 5],\n",
              " [1, 3, 5],\n",
              " [8, 2],\n",
              " [2, 4, 3, 2],\n",
              " [3, 2],\n",
              " [1, 4, 6],\n",
              " [1, 4, 6],\n",
              " [1, 4, 2],\n",
              " [7, 7, 3, 2, 8, 1, 8],\n",
              " [1, 8, 3, 8]]"
            ]
          },
          "metadata": {},
          "execution_count": 30
        }
      ]
    },
    {
      "cell_type": "code",
      "source": [
        "from keras.preprocessing.text import Tokenizer\n",
        "\n",
        "data = '''\n",
        "3일(현지 시간) 블룸버그통신은 애플이 개인 로봇 분야 진출을 위한 조사에 나섰다고 보도했다. 블룸버그는 “아직 초기 단계로 로봇이 실제 출시될지는 미지수지만 전기차 프로젝트를 폐기한 애플이 새 수익원을 찾기 위해 점점 더 많은 압력을 받고 있다”고 했다.\n",
        "\n",
        "애플 로봇 프로젝트는 극초기 단계로 매우 비밀스럽게 진행되고 있다고 한다. 담당 부서는 하드웨어 엔지니어링과 AI·머신러닝 그룹으로, 아직 정식 프로젝트로 승격되지 않은 ‘초기 연구단계’인 것으로 알려졌다.\n",
        "\n",
        "프로젝트 참여 인원은 점점 확대되고 있는 것으로 보인다. 최근 폐쇄한 전기차 개발 인원 일부가 로봇 분야로 전보된데다 애플이 로봇 관련 직무를 채용 중이기도 하다. 블룸버그는 “로봇은 자율주행차처럼 사람 개입 없이 스스로 탐색할 수 있는 장치로 전기차와 유사점이 있다”며 “애플이 ‘복잡한 지능형 로봇 시스템과 경험을 연구 개발하는 데 도움을 줄 머신러닝·로봇공학자’를 찾고 있다”고 전했다.\n",
        "\n",
        "애플이 구상하는 가정용 로봇은 ‘스마트홈 기기’에 가까운 것으로 보인다. 로봇에 최적화한 스마트 디스플레이를 탑재하고 이동 가능하며, 음성 인식 등 AI와 사물인터넷(IoT) 기능을 갖춘 모습이 그려진다. 블룸버그는 “전기차 프로젝트 취소 전 애플은 회사의 미래가 자동차, 가정, 혼합현실 등 세 분야로 전개될 것이라고 말해왔다”며 “자동차 사업이 취소되고 비전프로가 등장한 만큼 스마트홈 시장에 초점이 맞춰지고 있다”고 했다.\n",
        "'''\n",
        "okt = Okt()\n",
        "text = okt.nouns(data)\n",
        "\n",
        "tokenizer = Tokenizer()\n",
        "tokenizer.fit_on_texts(text)\n",
        "tokenizer.word_index\n"
      ],
      "metadata": {
        "colab": {
          "base_uri": "https://localhost:8080/"
        },
        "id": "IPuPUzPGu_X0",
        "outputId": "9b3a406d-4bde-4c65-e5ee-a2a6879ef8b9"
      },
      "execution_count": null,
      "outputs": [
        {
          "output_type": "execute_result",
          "data": {
            "text/plain": [
              "{'로봇': 1,\n",
              " '애플': 2,\n",
              " '프로젝트': 3,\n",
              " '블룸버그': 4,\n",
              " '전기차': 5,\n",
              " '것': 6,\n",
              " '분야': 7,\n",
              " '초기': 8,\n",
              " '단계': 9,\n",
              " '고': 10,\n",
              " '점점': 11,\n",
              " '머신': 12,\n",
              " '러닝': 13,\n",
              " '연구': 14,\n",
              " '인원': 15,\n",
              " '개발': 16,\n",
              " '며': 17,\n",
              " '전': 18,\n",
              " '가정': 19,\n",
              " '스마트홈': 20,\n",
              " '등': 21,\n",
              " '취소': 22,\n",
              " '자동차': 23,\n",
              " '현지': 24,\n",
              " '시간': 25,\n",
              " '통신': 26,\n",
              " '개인': 27,\n",
              " '진출': 28,\n",
              " '위': 29,\n",
              " '조사': 30,\n",
              " '보도': 31,\n",
              " '실제': 32,\n",
              " '출시': 33,\n",
              " '미지수': 34,\n",
              " '폐기': 35,\n",
              " '새': 36,\n",
              " '수익': 37,\n",
              " '찾기': 38,\n",
              " '위해': 39,\n",
              " '더': 40,\n",
              " '압력': 41,\n",
              " '매우': 42,\n",
              " '비밀': 43,\n",
              " '진행': 44,\n",
              " '담당': 45,\n",
              " '부서': 46,\n",
              " '하드웨어': 47,\n",
              " '엔지니어링': 48,\n",
              " '그룹': 49,\n",
              " '정식': 50,\n",
              " '승격': 51,\n",
              " '인': 52,\n",
              " '참여': 53,\n",
              " '확대': 54,\n",
              " '최근': 55,\n",
              " '폐쇄': 56,\n",
              " '일부': 57,\n",
              " '전보': 58,\n",
              " '관련': 59,\n",
              " '직무': 60,\n",
              " '채용': 61,\n",
              " '중': 62,\n",
              " '자율': 63,\n",
              " '행차': 64,\n",
              " '사람': 65,\n",
              " '개입': 66,\n",
              " '스스로': 67,\n",
              " '탐색': 68,\n",
              " '수': 69,\n",
              " '장치': 70,\n",
              " '유사': 71,\n",
              " '점': 72,\n",
              " '지능': 73,\n",
              " '시스템': 74,\n",
              " '경험': 75,\n",
              " '데': 76,\n",
              " '도움': 77,\n",
              " '줄': 78,\n",
              " '로봇공학자': 79,\n",
              " '를': 80,\n",
              " '구상': 81,\n",
              " '용': 82,\n",
              " '기기': 83,\n",
              " '최적화': 84,\n",
              " '스마트': 85,\n",
              " '디스플레이': 86,\n",
              " '탑재': 87,\n",
              " '이동': 88,\n",
              " '음성': 89,\n",
              " '인식': 90,\n",
              " '사물인터넷': 91,\n",
              " '기능': 92,\n",
              " '모습': 93,\n",
              " '회사': 94,\n",
              " '미래': 95,\n",
              " '혼합': 96,\n",
              " '현실': 97,\n",
              " '세': 98,\n",
              " '전개': 99,\n",
              " '말': 100,\n",
              " '사업': 101,\n",
              " '프로': 102,\n",
              " '등장': 103,\n",
              " '만큼': 104,\n",
              " '시장': 105,\n",
              " '초점': 106}"
            ]
          },
          "metadata": {},
          "execution_count": 36
        }
      ]
    },
    {
      "cell_type": "code",
      "source": [
        "sentence = \"애플이 구상하는 가정용 로봇은 ‘스마트홈 기기’에 가까운 것으로 보인다.\"\n",
        "[1]\n",
        "\n",
        "st = okt.nouns(sentence)\n",
        "tokenizer.texts_to_sequences([st])\n",
        "\n",
        "[[2,81,83],[2,81]]"
      ],
      "metadata": {
        "colab": {
          "base_uri": "https://localhost:8080/"
        },
        "id": "-WKcI1noxHBi",
        "outputId": "1b643fdf-41cb-4bc5-ae54-d3250fd406ca"
      },
      "execution_count": null,
      "outputs": [
        {
          "output_type": "execute_result",
          "data": {
            "text/plain": [
              "[[2, 81, 19, 82, 1, 20, 83, 6]]"
            ]
          },
          "metadata": {},
          "execution_count": 34
        }
      ]
    },
    {
      "cell_type": "code",
      "source": [
        " from tensorflow.keras.preprocessing.sequence import pad_sequences\n",
        " from keras.preprocessing.text import Tokenizer\n",
        "\n",
        "data = '''\n",
        "3일(현지 시간) 블룸버그통신은 애플이 개인 로봇 분야 진출을 위한 조사에 나섰다고 보도했다. 블룸버그는 “아직 초기 단계로 로봇이 실제 출시될지는 미지수지만 전기차 프로젝트를 폐기한 애플이 새 수익원을 찾기 위해 점점 더 많은 압력을 받고 있다”고 했다.\n",
        "\n",
        "애플 로봇 프로젝트는 극초기 단계로 매우 비밀스럽게 진행되고 있다고 한다. 담당 부서는 하드웨어 엔지니어링과 AI·머신러닝 그룹으로, 아직 정식 프로젝트로 승격되지 않은 ‘초기 연구단계’인 것으로 알려졌다.\n",
        "\n",
        "프로젝트 참여 인원은 점점 확대되고 있는 것으로 보인다. 최근 폐쇄한 전기차 개발 인원 일부가 로봇 분야로 전보된데다 애플이 로봇 관련 직무를 채용 중이기도 하다. 블룸버그는 “로봇은 자율주행차처럼 사람 개입 없이 스스로 탐색할 수 있는 장치로 전기차와 유사점이 있다”며 “애플이 ‘복잡한 지능형 로봇 시스템과 경험을 연구 개발하는 데 도움을 줄 머신러닝·로봇공학자’를 찾고 있다”고 전했다.\n",
        "\n",
        "애플이 구상하는 가정용 로봇은 ‘스마트홈 기기’에 가까운 것으로 보인다. 로봇에 최적화한 스마트 디스플레이를 탑재하고 이동 가능하며, 음성 인식 등 AI와 사물인터넷(IoT) 기능을 갖춘 모습이 그려진다. 블룸버그는 “전기차 프로젝트 취소 전 애플은 회사의 미래가 자동차, 가정, 혼합현실 등 세 분야로 전개될 것이라고 말해왔다”며 “자동차 사업이 취소되고 비전프로가 등장한 만큼 스마트홈 시장에 초점이 맞춰지고 있다”고 했다.\n",
        "'''\n",
        "okt = Okt()\n",
        "text = okt.nouns(data)\n",
        "\n",
        "tokenizer = Tokenizer()\n",
        "tokenizer.fit_on_texts(text)\n",
        "tokenizer.word_index"
      ],
      "metadata": {
        "colab": {
          "base_uri": "https://localhost:8080/"
        },
        "id": "vmSVvO6UxSMC",
        "outputId": "7b89f4e2-d00a-40d5-a5b5-7bc1131675a2"
      },
      "execution_count": null,
      "outputs": [
        {
          "output_type": "execute_result",
          "data": {
            "text/plain": [
              "{'로봇': 1,\n",
              " '애플': 2,\n",
              " '프로젝트': 3,\n",
              " '블룸버그': 4,\n",
              " '전기차': 5,\n",
              " '것': 6,\n",
              " '분야': 7,\n",
              " '초기': 8,\n",
              " '단계': 9,\n",
              " '고': 10,\n",
              " '점점': 11,\n",
              " '머신': 12,\n",
              " '러닝': 13,\n",
              " '연구': 14,\n",
              " '인원': 15,\n",
              " '개발': 16,\n",
              " '며': 17,\n",
              " '전': 18,\n",
              " '가정': 19,\n",
              " '스마트홈': 20,\n",
              " '등': 21,\n",
              " '취소': 22,\n",
              " '자동차': 23,\n",
              " '현지': 24,\n",
              " '시간': 25,\n",
              " '통신': 26,\n",
              " '개인': 27,\n",
              " '진출': 28,\n",
              " '위': 29,\n",
              " '조사': 30,\n",
              " '보도': 31,\n",
              " '실제': 32,\n",
              " '출시': 33,\n",
              " '미지수': 34,\n",
              " '폐기': 35,\n",
              " '새': 36,\n",
              " '수익': 37,\n",
              " '찾기': 38,\n",
              " '위해': 39,\n",
              " '더': 40,\n",
              " '압력': 41,\n",
              " '매우': 42,\n",
              " '비밀': 43,\n",
              " '진행': 44,\n",
              " '담당': 45,\n",
              " '부서': 46,\n",
              " '하드웨어': 47,\n",
              " '엔지니어링': 48,\n",
              " '그룹': 49,\n",
              " '정식': 50,\n",
              " '승격': 51,\n",
              " '인': 52,\n",
              " '참여': 53,\n",
              " '확대': 54,\n",
              " '최근': 55,\n",
              " '폐쇄': 56,\n",
              " '일부': 57,\n",
              " '전보': 58,\n",
              " '관련': 59,\n",
              " '직무': 60,\n",
              " '채용': 61,\n",
              " '중': 62,\n",
              " '자율': 63,\n",
              " '행차': 64,\n",
              " '사람': 65,\n",
              " '개입': 66,\n",
              " '스스로': 67,\n",
              " '탐색': 68,\n",
              " '수': 69,\n",
              " '장치': 70,\n",
              " '유사': 71,\n",
              " '점': 72,\n",
              " '지능': 73,\n",
              " '시스템': 74,\n",
              " '경험': 75,\n",
              " '데': 76,\n",
              " '도움': 77,\n",
              " '줄': 78,\n",
              " '로봇공학자': 79,\n",
              " '를': 80,\n",
              " '구상': 81,\n",
              " '용': 82,\n",
              " '기기': 83,\n",
              " '최적화': 84,\n",
              " '스마트': 85,\n",
              " '디스플레이': 86,\n",
              " '탑재': 87,\n",
              " '이동': 88,\n",
              " '음성': 89,\n",
              " '인식': 90,\n",
              " '사물인터넷': 91,\n",
              " '기능': 92,\n",
              " '모습': 93,\n",
              " '회사': 94,\n",
              " '미래': 95,\n",
              " '혼합': 96,\n",
              " '현실': 97,\n",
              " '세': 98,\n",
              " '전개': 99,\n",
              " '말': 100,\n",
              " '사업': 101,\n",
              " '프로': 102,\n",
              " '등장': 103,\n",
              " '만큼': 104,\n",
              " '시장': 105,\n",
              " '초점': 106}"
            ]
          },
          "metadata": {},
          "execution_count": 39
        }
      ]
    },
    {
      "cell_type": "code",
      "source": [
        "text_result = data.split('.')\n",
        "text_result"
      ],
      "metadata": {
        "colab": {
          "base_uri": "https://localhost:8080/"
        },
        "id": "vriMXsOX4f3S",
        "outputId": "a715fb2a-469e-4963-990e-6d15995d3e88"
      },
      "execution_count": null,
      "outputs": [
        {
          "output_type": "execute_result",
          "data": {
            "text/plain": [
              "['\\n3일(현지 시간) 블룸버그통신은 애플이 개인 로봇 분야 진출을 위한 조사에 나섰다고 보도했다',\n",
              " ' 블룸버그는 “아직 초기 단계로 로봇이 실제 출시될지는 미지수지만 전기차 프로젝트를 폐기한 애플이 새 수익원을 찾기 위해 점점 더 많은 압력을 받고 있다”고 했다',\n",
              " '\\n\\n애플 로봇 프로젝트는 극초기 단계로 매우 비밀스럽게 진행되고 있다고 한다',\n",
              " ' 담당 부서는 하드웨어 엔지니어링과 AI·머신러닝 그룹으로, 아직 정식 프로젝트로 승격되지 않은 ‘초기 연구단계’인 것으로 알려졌다',\n",
              " '\\n\\n프로젝트 참여 인원은 점점 확대되고 있는 것으로 보인다',\n",
              " ' 최근 폐쇄한 전기차 개발 인원 일부가 로봇 분야로 전보된데다 애플이 로봇 관련 직무를 채용 중이기도 하다',\n",
              " ' 블룸버그는 “로봇은 자율주행차처럼 사람 개입 없이 스스로 탐색할 수 있는 장치로 전기차와 유사점이 있다”며 “애플이 ‘복잡한 지능형 로봇 시스템과 경험을 연구 개발하는 데 도움을 줄 머신러닝·로봇공학자’를 찾고 있다”고 전했다',\n",
              " '\\n\\n애플이 구상하는 가정용 로봇은 ‘스마트홈 기기’에 가까운 것으로 보인다',\n",
              " ' 로봇에 최적화한 스마트 디스플레이를 탑재하고 이동 가능하며, 음성 인식 등 AI와 사물인터넷(IoT) 기능을 갖춘 모습이 그려진다',\n",
              " ' 블룸버그는 “전기차 프로젝트 취소 전 애플은 회사의 미래가 자동차, 가정, 혼합현실 등 세 분야로 전개될 것이라고 말해왔다”며 “자동차 사업이 취소되고 비전프로가 등장한 만큼 스마트홈 시장에 초점이 맞춰지고 있다”고 했다',\n",
              " '\\n']"
            ]
          },
          "metadata": {},
          "execution_count": 40
        }
      ]
    },
    {
      "cell_type": "code",
      "source": [
        "encoding_data = []\n",
        "for temp in text_result:\n",
        "    result = tokenizer.texts_to_sequences([okt.nouns(temp)])[0]\n",
        "    encoding_data.append(result)\n",
        "\n",
        "encoding_data"
      ],
      "metadata": {
        "colab": {
          "base_uri": "https://localhost:8080/"
        },
        "id": "uUtWlcSJ5LGz",
        "outputId": "a9c9dec1-34c7-46ce-c8ab-6f6472c7965d"
      },
      "execution_count": null,
      "outputs": [
        {
          "output_type": "execute_result",
          "data": {
            "text/plain": [
              "[[24, 25, 4, 26, 2, 27, 1, 7, 28, 29, 30, 31],\n",
              " [4, 8, 9, 1, 32, 33, 34, 5, 3, 35, 2, 36, 37, 38, 39, 11, 40, 41, 10],\n",
              " [2, 1, 3, 8, 9, 42, 43, 44],\n",
              " [45, 46, 47, 48, 12, 13, 49, 50, 3, 51, 8, 14, 9, 52, 6],\n",
              " [3, 53, 15, 11, 54, 6],\n",
              " [55, 56, 5, 16, 15, 57, 1, 7, 58, 2, 1, 59, 60, 61, 62],\n",
              " [4,\n",
              "  1,\n",
              "  63,\n",
              "  64,\n",
              "  65,\n",
              "  66,\n",
              "  67,\n",
              "  68,\n",
              "  69,\n",
              "  70,\n",
              "  5,\n",
              "  71,\n",
              "  72,\n",
              "  17,\n",
              "  2,\n",
              "  73,\n",
              "  1,\n",
              "  74,\n",
              "  75,\n",
              "  14,\n",
              "  16,\n",
              "  76,\n",
              "  77,\n",
              "  78,\n",
              "  12,\n",
              "  13,\n",
              "  79,\n",
              "  80,\n",
              "  10,\n",
              "  18],\n",
              " [2, 81, 19, 82, 1, 20, 83, 6],\n",
              " [1, 84, 85, 86, 87, 88, 89, 90, 21, 91, 92, 93],\n",
              " [4,\n",
              "  5,\n",
              "  3,\n",
              "  22,\n",
              "  18,\n",
              "  2,\n",
              "  94,\n",
              "  95,\n",
              "  23,\n",
              "  19,\n",
              "  96,\n",
              "  97,\n",
              "  21,\n",
              "  98,\n",
              "  7,\n",
              "  99,\n",
              "  6,\n",
              "  100,\n",
              "  17,\n",
              "  23,\n",
              "  101,\n",
              "  22,\n",
              "  102,\n",
              "  103,\n",
              "  104,\n",
              "  20,\n",
              "  105,\n",
              "  106,\n",
              "  10],\n",
              " []]"
            ]
          },
          "metadata": {},
          "execution_count": 47
        }
      ]
    },
    {
      "cell_type": "code",
      "source": [
        "padding = pad_sequences(encoding_data,padding='post')\n",
        "padding"
      ],
      "metadata": {
        "colab": {
          "base_uri": "https://localhost:8080/"
        },
        "id": "1LU8R7xe5UJS",
        "outputId": "c70229e8-33cf-412f-f167-bd700ef29d55"
      },
      "execution_count": null,
      "outputs": [
        {
          "output_type": "execute_result",
          "data": {
            "text/plain": [
              "array([[ 24,  25,   4,  26,   2,  27,   1,   7,  28,  29,  30,  31,   0,\n",
              "          0,   0,   0,   0,   0,   0,   0,   0,   0,   0,   0,   0,   0,\n",
              "          0,   0,   0,   0],\n",
              "       [  4,   8,   9,   1,  32,  33,  34,   5,   3,  35,   2,  36,  37,\n",
              "         38,  39,  11,  40,  41,  10,   0,   0,   0,   0,   0,   0,   0,\n",
              "          0,   0,   0,   0],\n",
              "       [  2,   1,   3,   8,   9,  42,  43,  44,   0,   0,   0,   0,   0,\n",
              "          0,   0,   0,   0,   0,   0,   0,   0,   0,   0,   0,   0,   0,\n",
              "          0,   0,   0,   0],\n",
              "       [ 45,  46,  47,  48,  12,  13,  49,  50,   3,  51,   8,  14,   9,\n",
              "         52,   6,   0,   0,   0,   0,   0,   0,   0,   0,   0,   0,   0,\n",
              "          0,   0,   0,   0],\n",
              "       [  3,  53,  15,  11,  54,   6,   0,   0,   0,   0,   0,   0,   0,\n",
              "          0,   0,   0,   0,   0,   0,   0,   0,   0,   0,   0,   0,   0,\n",
              "          0,   0,   0,   0],\n",
              "       [ 55,  56,   5,  16,  15,  57,   1,   7,  58,   2,   1,  59,  60,\n",
              "         61,  62,   0,   0,   0,   0,   0,   0,   0,   0,   0,   0,   0,\n",
              "          0,   0,   0,   0],\n",
              "       [  4,   1,  63,  64,  65,  66,  67,  68,  69,  70,   5,  71,  72,\n",
              "         17,   2,  73,   1,  74,  75,  14,  16,  76,  77,  78,  12,  13,\n",
              "         79,  80,  10,  18],\n",
              "       [  2,  81,  19,  82,   1,  20,  83,   6,   0,   0,   0,   0,   0,\n",
              "          0,   0,   0,   0,   0,   0,   0,   0,   0,   0,   0,   0,   0,\n",
              "          0,   0,   0,   0],\n",
              "       [  1,  84,  85,  86,  87,  88,  89,  90,  21,  91,  92,  93,   0,\n",
              "          0,   0,   0,   0,   0,   0,   0,   0,   0,   0,   0,   0,   0,\n",
              "          0,   0,   0,   0],\n",
              "       [  4,   5,   3,  22,  18,   2,  94,  95,  23,  19,  96,  97,  21,\n",
              "         98,   7,  99,   6, 100,  17,  23, 101,  22, 102, 103, 104,  20,\n",
              "        105, 106,  10,   0],\n",
              "       [  0,   0,   0,   0,   0,   0,   0,   0,   0,   0,   0,   0,   0,\n",
              "          0,   0,   0,   0,   0,   0,   0,   0,   0,   0,   0,   0,   0,\n",
              "          0,   0,   0,   0]], dtype=int32)"
            ]
          },
          "metadata": {},
          "execution_count": 49
        }
      ]
    },
    {
      "cell_type": "code",
      "source": [
        "padding.shape"
      ],
      "metadata": {
        "colab": {
          "base_uri": "https://localhost:8080/"
        },
        "id": "Wj3EWqh76MXS",
        "outputId": "54b9fc1c-7353-4fba-b8fb-09675fc776a2"
      },
      "execution_count": null,
      "outputs": [
        {
          "output_type": "execute_result",
          "data": {
            "text/plain": [
              "(11, 30)"
            ]
          },
          "metadata": {},
          "execution_count": 50
        }
      ]
    },
    {
      "cell_type": "code",
      "source": [
        "padding = pad_sequences(encoding_data,padding='post',maxlen=10,truncating='post')\n",
        "padding"
      ],
      "metadata": {
        "colab": {
          "base_uri": "https://localhost:8080/"
        },
        "id": "tAFnKMAM7Mvy",
        "outputId": "5ab1d487-3c40-417f-a2ff-c73c539a5dc5"
      },
      "execution_count": null,
      "outputs": [
        {
          "output_type": "execute_result",
          "data": {
            "text/plain": [
              "array([[24, 25,  4, 26,  2, 27,  1,  7, 28, 29],\n",
              "       [ 4,  8,  9,  1, 32, 33, 34,  5,  3, 35],\n",
              "       [ 2,  1,  3,  8,  9, 42, 43, 44,  0,  0],\n",
              "       [45, 46, 47, 48, 12, 13, 49, 50,  3, 51],\n",
              "       [ 3, 53, 15, 11, 54,  6,  0,  0,  0,  0],\n",
              "       [55, 56,  5, 16, 15, 57,  1,  7, 58,  2],\n",
              "       [ 4,  1, 63, 64, 65, 66, 67, 68, 69, 70],\n",
              "       [ 2, 81, 19, 82,  1, 20, 83,  6,  0,  0],\n",
              "       [ 1, 84, 85, 86, 87, 88, 89, 90, 21, 91],\n",
              "       [ 4,  5,  3, 22, 18,  2, 94, 95, 23, 19],\n",
              "       [ 0,  0,  0,  0,  0,  0,  0,  0,  0,  0]], dtype=int32)"
            ]
          },
          "metadata": {},
          "execution_count": 54
        }
      ]
    },
    {
      "cell_type": "code",
      "source": [
        "last_count = len(tokenizer.word_index)+1\n",
        "last_count\n"
      ],
      "metadata": {
        "colab": {
          "base_uri": "https://localhost:8080/"
        },
        "id": "GD4DHLA78RBS",
        "outputId": "71da4a13-155c-45ad-e25f-29b772876180"
      },
      "execution_count": null,
      "outputs": [
        {
          "output_type": "execute_result",
          "data": {
            "text/plain": [
              "107"
            ]
          },
          "metadata": {},
          "execution_count": 58
        }
      ]
    },
    {
      "cell_type": "code",
      "source": [
        "padding = pad_sequences(encoding_data,padding='post',maxlen=10,truncating='post',value=last_count)\n",
        "padding"
      ],
      "metadata": {
        "colab": {
          "base_uri": "https://localhost:8080/"
        },
        "id": "z1nOprh69ZIJ",
        "outputId": "869bc729-4274-4f33-9635-e95f59dec2fa"
      },
      "execution_count": null,
      "outputs": [
        {
          "output_type": "execute_result",
          "data": {
            "text/plain": [
              "array([[ 24,  25,   4,  26,   2,  27,   1,   7,  28,  29],\n",
              "       [  4,   8,   9,   1,  32,  33,  34,   5,   3,  35],\n",
              "       [  2,   1,   3,   8,   9,  42,  43,  44, 107, 107],\n",
              "       [ 45,  46,  47,  48,  12,  13,  49,  50,   3,  51],\n",
              "       [  3,  53,  15,  11,  54,   6, 107, 107, 107, 107],\n",
              "       [ 55,  56,   5,  16,  15,  57,   1,   7,  58,   2],\n",
              "       [  4,   1,  63,  64,  65,  66,  67,  68,  69,  70],\n",
              "       [  2,  81,  19,  82,   1,  20,  83,   6, 107, 107],\n",
              "       [  1,  84,  85,  86,  87,  88,  89,  90,  21,  91],\n",
              "       [  4,   5,   3,  22,  18,   2,  94,  95,  23,  19],\n",
              "       [107, 107, 107, 107, 107, 107, 107, 107, 107, 107]], dtype=int32)"
            ]
          },
          "metadata": {},
          "execution_count": 59
        }
      ]
    },
    {
      "cell_type": "code",
      "source": [],
      "metadata": {
        "id": "xxZBCVYj9r6q"
      },
      "execution_count": null,
      "outputs": []
    }
  ]
}