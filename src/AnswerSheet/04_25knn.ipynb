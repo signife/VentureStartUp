{
  "nbformat": 4,
  "nbformat_minor": 0,
  "metadata": {
    "colab": {
      "provenance": []
    },
    "kernelspec": {
      "name": "python3",
      "display_name": "Python 3"
    },
    "language_info": {
      "name": "python"
    }
  },
  "cells": [
    {
      "cell_type": "code",
      "execution_count": null,
      "metadata": {
        "id": "m9-CR2TVAF9O"
      },
      "outputs": [],
      "source": [
        "import pandas as pd\n",
        "from sklearn.datasets import load_breast_cancer\n",
        "from sklearn.model_selection import train_test_split\n",
        "from sklearn.neighbors import KNeighborsClassifier\n",
        "\n",
        "\n",
        "data = load_breast_cancer()\n",
        "X_train,X_test,y_train,y_test = train_test_split(data.data,data.target,stratify=data.target,random_state=34)\n"
      ]
    },
    {
      "cell_type": "code",
      "source": [
        "knn = KNeighborsClassifier(n_neighbors=5)\n",
        "knn.fit(X_train,y_train)\n",
        "print('학습데이터:',knn.score(X_train,y_train))\n",
        "print('테스트데이터:',knn.score(X_test,y_test))"
      ],
      "metadata": {
        "colab": {
          "base_uri": "https://localhost:8080/"
        },
        "id": "q9X_2LRlAqgg",
        "outputId": "3f16458a-6c9e-424a-b287-686826d360f5"
      },
      "execution_count": null,
      "outputs": [
        {
          "output_type": "stream",
          "name": "stdout",
          "text": [
            "학습데이터: 0.9436619718309859\n",
            "테스트데이터: 0.9300699300699301\n"
          ]
        }
      ]
    },
    {
      "cell_type": "code",
      "source": [
        "from sklearn.model_selection import GridSearchCV\n",
        "\n",
        "model = KNeighborsClassifier()\n",
        "params = {'n_neighbors':range(2,30)}\n",
        "\n",
        "knn_grid = GridSearchCV(model,param_grid=params,cv=5)\n",
        "\n",
        "knn_grid.fit(X_train,y_train)"
      ],
      "metadata": {
        "colab": {
          "base_uri": "https://localhost:8080/",
          "height": 117
        },
        "id": "JwQZrThcBUUH",
        "outputId": "00f5ebb9-76e6-4729-aeff-b43ece593e14"
      },
      "execution_count": null,
      "outputs": [
        {
          "output_type": "execute_result",
          "data": {
            "text/plain": [
              "GridSearchCV(cv=5, estimator=KNeighborsClassifier(),\n",
              "             param_grid={'n_neighbors': range(2, 30)})"
            ],
            "text/html": [
              "<style>#sk-container-id-1 {color: black;background-color: white;}#sk-container-id-1 pre{padding: 0;}#sk-container-id-1 div.sk-toggleable {background-color: white;}#sk-container-id-1 label.sk-toggleable__label {cursor: pointer;display: block;width: 100%;margin-bottom: 0;padding: 0.3em;box-sizing: border-box;text-align: center;}#sk-container-id-1 label.sk-toggleable__label-arrow:before {content: \"▸\";float: left;margin-right: 0.25em;color: #696969;}#sk-container-id-1 label.sk-toggleable__label-arrow:hover:before {color: black;}#sk-container-id-1 div.sk-estimator:hover label.sk-toggleable__label-arrow:before {color: black;}#sk-container-id-1 div.sk-toggleable__content {max-height: 0;max-width: 0;overflow: hidden;text-align: left;background-color: #f0f8ff;}#sk-container-id-1 div.sk-toggleable__content pre {margin: 0.2em;color: black;border-radius: 0.25em;background-color: #f0f8ff;}#sk-container-id-1 input.sk-toggleable__control:checked~div.sk-toggleable__content {max-height: 200px;max-width: 100%;overflow: auto;}#sk-container-id-1 input.sk-toggleable__control:checked~label.sk-toggleable__label-arrow:before {content: \"▾\";}#sk-container-id-1 div.sk-estimator input.sk-toggleable__control:checked~label.sk-toggleable__label {background-color: #d4ebff;}#sk-container-id-1 div.sk-label input.sk-toggleable__control:checked~label.sk-toggleable__label {background-color: #d4ebff;}#sk-container-id-1 input.sk-hidden--visually {border: 0;clip: rect(1px 1px 1px 1px);clip: rect(1px, 1px, 1px, 1px);height: 1px;margin: -1px;overflow: hidden;padding: 0;position: absolute;width: 1px;}#sk-container-id-1 div.sk-estimator {font-family: monospace;background-color: #f0f8ff;border: 1px dotted black;border-radius: 0.25em;box-sizing: border-box;margin-bottom: 0.5em;}#sk-container-id-1 div.sk-estimator:hover {background-color: #d4ebff;}#sk-container-id-1 div.sk-parallel-item::after {content: \"\";width: 100%;border-bottom: 1px solid gray;flex-grow: 1;}#sk-container-id-1 div.sk-label:hover label.sk-toggleable__label {background-color: #d4ebff;}#sk-container-id-1 div.sk-serial::before {content: \"\";position: absolute;border-left: 1px solid gray;box-sizing: border-box;top: 0;bottom: 0;left: 50%;z-index: 0;}#sk-container-id-1 div.sk-serial {display: flex;flex-direction: column;align-items: center;background-color: white;padding-right: 0.2em;padding-left: 0.2em;position: relative;}#sk-container-id-1 div.sk-item {position: relative;z-index: 1;}#sk-container-id-1 div.sk-parallel {display: flex;align-items: stretch;justify-content: center;background-color: white;position: relative;}#sk-container-id-1 div.sk-item::before, #sk-container-id-1 div.sk-parallel-item::before {content: \"\";position: absolute;border-left: 1px solid gray;box-sizing: border-box;top: 0;bottom: 0;left: 50%;z-index: -1;}#sk-container-id-1 div.sk-parallel-item {display: flex;flex-direction: column;z-index: 1;position: relative;background-color: white;}#sk-container-id-1 div.sk-parallel-item:first-child::after {align-self: flex-end;width: 50%;}#sk-container-id-1 div.sk-parallel-item:last-child::after {align-self: flex-start;width: 50%;}#sk-container-id-1 div.sk-parallel-item:only-child::after {width: 0;}#sk-container-id-1 div.sk-dashed-wrapped {border: 1px dashed gray;margin: 0 0.4em 0.5em 0.4em;box-sizing: border-box;padding-bottom: 0.4em;background-color: white;}#sk-container-id-1 div.sk-label label {font-family: monospace;font-weight: bold;display: inline-block;line-height: 1.2em;}#sk-container-id-1 div.sk-label-container {text-align: center;}#sk-container-id-1 div.sk-container {/* jupyter's `normalize.less` sets `[hidden] { display: none; }` but bootstrap.min.css set `[hidden] { display: none !important; }` so we also need the `!important` here to be able to override the default hidden behavior on the sphinx rendered scikit-learn.org. See: https://github.com/scikit-learn/scikit-learn/issues/21755 */display: inline-block !important;position: relative;}#sk-container-id-1 div.sk-text-repr-fallback {display: none;}</style><div id=\"sk-container-id-1\" class=\"sk-top-container\"><div class=\"sk-text-repr-fallback\"><pre>GridSearchCV(cv=5, estimator=KNeighborsClassifier(),\n",
              "             param_grid={&#x27;n_neighbors&#x27;: range(2, 30)})</pre><b>In a Jupyter environment, please rerun this cell to show the HTML representation or trust the notebook. <br />On GitHub, the HTML representation is unable to render, please try loading this page with nbviewer.org.</b></div><div class=\"sk-container\" hidden><div class=\"sk-item sk-dashed-wrapped\"><div class=\"sk-label-container\"><div class=\"sk-label sk-toggleable\"><input class=\"sk-toggleable__control sk-hidden--visually\" id=\"sk-estimator-id-1\" type=\"checkbox\" ><label for=\"sk-estimator-id-1\" class=\"sk-toggleable__label sk-toggleable__label-arrow\">GridSearchCV</label><div class=\"sk-toggleable__content\"><pre>GridSearchCV(cv=5, estimator=KNeighborsClassifier(),\n",
              "             param_grid={&#x27;n_neighbors&#x27;: range(2, 30)})</pre></div></div></div><div class=\"sk-parallel\"><div class=\"sk-parallel-item\"><div class=\"sk-item\"><div class=\"sk-label-container\"><div class=\"sk-label sk-toggleable\"><input class=\"sk-toggleable__control sk-hidden--visually\" id=\"sk-estimator-id-2\" type=\"checkbox\" ><label for=\"sk-estimator-id-2\" class=\"sk-toggleable__label sk-toggleable__label-arrow\">estimator: KNeighborsClassifier</label><div class=\"sk-toggleable__content\"><pre>KNeighborsClassifier()</pre></div></div></div><div class=\"sk-serial\"><div class=\"sk-item\"><div class=\"sk-estimator sk-toggleable\"><input class=\"sk-toggleable__control sk-hidden--visually\" id=\"sk-estimator-id-3\" type=\"checkbox\" ><label for=\"sk-estimator-id-3\" class=\"sk-toggleable__label sk-toggleable__label-arrow\">KNeighborsClassifier</label><div class=\"sk-toggleable__content\"><pre>KNeighborsClassifier()</pre></div></div></div></div></div></div></div></div></div></div>"
            ]
          },
          "metadata": {},
          "execution_count": 11
        }
      ]
    },
    {
      "cell_type": "code",
      "source": [
        "knn_grid.best_params_"
      ],
      "metadata": {
        "colab": {
          "base_uri": "https://localhost:8080/"
        },
        "id": "qntlj6RgCc-X",
        "outputId": "6305bf6f-1905-4d34-86ef-7157eeca5e3e"
      },
      "execution_count": null,
      "outputs": [
        {
          "output_type": "execute_result",
          "data": {
            "text/plain": [
              "{'n_neighbors': 3}"
            ]
          },
          "metadata": {},
          "execution_count": 12
        }
      ]
    },
    {
      "cell_type": "code",
      "source": [
        "knn_grid.best_estimator_"
      ],
      "metadata": {
        "colab": {
          "base_uri": "https://localhost:8080/",
          "height": 74
        },
        "id": "gxCImxb0Cmxv",
        "outputId": "81435035-85cd-4a76-a4e0-defde3b5b9c9"
      },
      "execution_count": null,
      "outputs": [
        {
          "output_type": "execute_result",
          "data": {
            "text/plain": [
              "KNeighborsClassifier(n_neighbors=3)"
            ],
            "text/html": [
              "<style>#sk-container-id-2 {color: black;background-color: white;}#sk-container-id-2 pre{padding: 0;}#sk-container-id-2 div.sk-toggleable {background-color: white;}#sk-container-id-2 label.sk-toggleable__label {cursor: pointer;display: block;width: 100%;margin-bottom: 0;padding: 0.3em;box-sizing: border-box;text-align: center;}#sk-container-id-2 label.sk-toggleable__label-arrow:before {content: \"▸\";float: left;margin-right: 0.25em;color: #696969;}#sk-container-id-2 label.sk-toggleable__label-arrow:hover:before {color: black;}#sk-container-id-2 div.sk-estimator:hover label.sk-toggleable__label-arrow:before {color: black;}#sk-container-id-2 div.sk-toggleable__content {max-height: 0;max-width: 0;overflow: hidden;text-align: left;background-color: #f0f8ff;}#sk-container-id-2 div.sk-toggleable__content pre {margin: 0.2em;color: black;border-radius: 0.25em;background-color: #f0f8ff;}#sk-container-id-2 input.sk-toggleable__control:checked~div.sk-toggleable__content {max-height: 200px;max-width: 100%;overflow: auto;}#sk-container-id-2 input.sk-toggleable__control:checked~label.sk-toggleable__label-arrow:before {content: \"▾\";}#sk-container-id-2 div.sk-estimator input.sk-toggleable__control:checked~label.sk-toggleable__label {background-color: #d4ebff;}#sk-container-id-2 div.sk-label input.sk-toggleable__control:checked~label.sk-toggleable__label {background-color: #d4ebff;}#sk-container-id-2 input.sk-hidden--visually {border: 0;clip: rect(1px 1px 1px 1px);clip: rect(1px, 1px, 1px, 1px);height: 1px;margin: -1px;overflow: hidden;padding: 0;position: absolute;width: 1px;}#sk-container-id-2 div.sk-estimator {font-family: monospace;background-color: #f0f8ff;border: 1px dotted black;border-radius: 0.25em;box-sizing: border-box;margin-bottom: 0.5em;}#sk-container-id-2 div.sk-estimator:hover {background-color: #d4ebff;}#sk-container-id-2 div.sk-parallel-item::after {content: \"\";width: 100%;border-bottom: 1px solid gray;flex-grow: 1;}#sk-container-id-2 div.sk-label:hover label.sk-toggleable__label {background-color: #d4ebff;}#sk-container-id-2 div.sk-serial::before {content: \"\";position: absolute;border-left: 1px solid gray;box-sizing: border-box;top: 0;bottom: 0;left: 50%;z-index: 0;}#sk-container-id-2 div.sk-serial {display: flex;flex-direction: column;align-items: center;background-color: white;padding-right: 0.2em;padding-left: 0.2em;position: relative;}#sk-container-id-2 div.sk-item {position: relative;z-index: 1;}#sk-container-id-2 div.sk-parallel {display: flex;align-items: stretch;justify-content: center;background-color: white;position: relative;}#sk-container-id-2 div.sk-item::before, #sk-container-id-2 div.sk-parallel-item::before {content: \"\";position: absolute;border-left: 1px solid gray;box-sizing: border-box;top: 0;bottom: 0;left: 50%;z-index: -1;}#sk-container-id-2 div.sk-parallel-item {display: flex;flex-direction: column;z-index: 1;position: relative;background-color: white;}#sk-container-id-2 div.sk-parallel-item:first-child::after {align-self: flex-end;width: 50%;}#sk-container-id-2 div.sk-parallel-item:last-child::after {align-self: flex-start;width: 50%;}#sk-container-id-2 div.sk-parallel-item:only-child::after {width: 0;}#sk-container-id-2 div.sk-dashed-wrapped {border: 1px dashed gray;margin: 0 0.4em 0.5em 0.4em;box-sizing: border-box;padding-bottom: 0.4em;background-color: white;}#sk-container-id-2 div.sk-label label {font-family: monospace;font-weight: bold;display: inline-block;line-height: 1.2em;}#sk-container-id-2 div.sk-label-container {text-align: center;}#sk-container-id-2 div.sk-container {/* jupyter's `normalize.less` sets `[hidden] { display: none; }` but bootstrap.min.css set `[hidden] { display: none !important; }` so we also need the `!important` here to be able to override the default hidden behavior on the sphinx rendered scikit-learn.org. See: https://github.com/scikit-learn/scikit-learn/issues/21755 */display: inline-block !important;position: relative;}#sk-container-id-2 div.sk-text-repr-fallback {display: none;}</style><div id=\"sk-container-id-2\" class=\"sk-top-container\"><div class=\"sk-text-repr-fallback\"><pre>KNeighborsClassifier(n_neighbors=3)</pre><b>In a Jupyter environment, please rerun this cell to show the HTML representation or trust the notebook. <br />On GitHub, the HTML representation is unable to render, please try loading this page with nbviewer.org.</b></div><div class=\"sk-container\" hidden><div class=\"sk-item\"><div class=\"sk-estimator sk-toggleable\"><input class=\"sk-toggleable__control sk-hidden--visually\" id=\"sk-estimator-id-4\" type=\"checkbox\" checked><label for=\"sk-estimator-id-4\" class=\"sk-toggleable__label sk-toggleable__label-arrow\">KNeighborsClassifier</label><div class=\"sk-toggleable__content\"><pre>KNeighborsClassifier(n_neighbors=3)</pre></div></div></div></div></div>"
            ]
          },
          "metadata": {},
          "execution_count": 13
        }
      ]
    },
    {
      "cell_type": "code",
      "source": [
        "knn_grid.best_score_"
      ],
      "metadata": {
        "colab": {
          "base_uri": "https://localhost:8080/"
        },
        "id": "Gi0ovJNlCp_u",
        "outputId": "143915b9-94e6-41d3-843a-0ac488604cb4"
      },
      "execution_count": null,
      "outputs": [
        {
          "output_type": "execute_result",
          "data": {
            "text/plain": [
              "0.9343091655266758"
            ]
          },
          "metadata": {},
          "execution_count": 14
        }
      ]
    },
    {
      "cell_type": "code",
      "source": [
        "knn_grid.cv_results_"
      ],
      "metadata": {
        "colab": {
          "base_uri": "https://localhost:8080/"
        },
        "id": "uG3_dPQECyTG",
        "outputId": "8f70824d-13a0-4a4e-b906-20224a265445"
      },
      "execution_count": null,
      "outputs": [
        {
          "output_type": "execute_result",
          "data": {
            "text/plain": [
              "{'mean_fit_time': array([0.00065498, 0.0005322 , 0.00053239, 0.00061359, 0.00054827,\n",
              "        0.00053768, 0.00052881, 0.0005383 , 0.00055928, 0.00055976,\n",
              "        0.00059056, 0.00053492, 0.00052295, 0.00052605, 0.00058265,\n",
              "        0.00053234, 0.00054379, 0.00054164, 0.00057073, 0.00058188,\n",
              "        0.00060744, 0.00054359, 0.00053873, 0.00054603, 0.00054159,\n",
              "        0.00052905, 0.00059695, 0.00054955]),\n",
              " 'std_fit_time': array([1.40518207e-04, 2.51923500e-05, 2.07339193e-05, 8.81966495e-05,\n",
              "        3.00311270e-05, 2.17812825e-05, 3.95950026e-05, 3.36524763e-05,\n",
              "        5.52035348e-05, 4.01989279e-05, 1.15995478e-04, 2.93936751e-05,\n",
              "        2.58085662e-05, 2.71958588e-05, 7.84043258e-05, 2.65004798e-05,\n",
              "        3.02757426e-05, 3.32692262e-05, 7.95751644e-05, 8.40466038e-05,\n",
              "        1.49489582e-04, 3.24322888e-05, 1.95180813e-05, 4.43505726e-05,\n",
              "        2.54282552e-05, 2.40767354e-05, 1.06782718e-04, 4.75203577e-05]),\n",
              " 'mean_score_time': array([0.00819793, 0.00644178, 0.00643487, 0.00670829, 0.00655389,\n",
              "        0.00656157, 0.00667601, 0.00650582, 0.00651875, 0.00661077,\n",
              "        0.00676374, 0.00668702, 0.0065352 , 0.00667744, 0.00736456,\n",
              "        0.00674152, 0.00678635, 0.00671024, 0.00766315, 0.00682726,\n",
              "        0.01035542, 0.00709782, 0.00861664, 0.00673718, 0.00682654,\n",
              "        0.00695205, 0.00711312, 0.00715203]),\n",
              " 'std_score_time': array([2.02808968e-03, 1.94479273e-04, 1.82310467e-04, 3.01818583e-04,\n",
              "        1.89697065e-04, 9.75425625e-05, 3.04545273e-04, 5.72400457e-05,\n",
              "        5.35822829e-05, 7.47229235e-05, 3.60194848e-05, 1.57715618e-04,\n",
              "        8.87918420e-05, 8.58578904e-05, 7.32870951e-04, 3.23093683e-05,\n",
              "        1.00435309e-04, 6.89323158e-05, 6.73991665e-04, 1.60745519e-04,\n",
              "        4.59914758e-03, 2.18204174e-04, 3.36801699e-03, 5.79068422e-05,\n",
              "        3.88675230e-05, 1.57819557e-04, 1.91332631e-04, 2.14404111e-04]),\n",
              " 'param_n_neighbors': masked_array(data=[2, 3, 4, 5, 6, 7, 8, 9, 10, 11, 12, 13, 14, 15, 16, 17,\n",
              "                    18, 19, 20, 21, 22, 23, 24, 25, 26, 27, 28, 29],\n",
              "              mask=[False, False, False, False, False, False, False, False,\n",
              "                    False, False, False, False, False, False, False, False,\n",
              "                    False, False, False, False, False, False, False, False,\n",
              "                    False, False, False, False],\n",
              "        fill_value='?',\n",
              "             dtype=object),\n",
              " 'params': [{'n_neighbors': 2},\n",
              "  {'n_neighbors': 3},\n",
              "  {'n_neighbors': 4},\n",
              "  {'n_neighbors': 5},\n",
              "  {'n_neighbors': 6},\n",
              "  {'n_neighbors': 7},\n",
              "  {'n_neighbors': 8},\n",
              "  {'n_neighbors': 9},\n",
              "  {'n_neighbors': 10},\n",
              "  {'n_neighbors': 11},\n",
              "  {'n_neighbors': 12},\n",
              "  {'n_neighbors': 13},\n",
              "  {'n_neighbors': 14},\n",
              "  {'n_neighbors': 15},\n",
              "  {'n_neighbors': 16},\n",
              "  {'n_neighbors': 17},\n",
              "  {'n_neighbors': 18},\n",
              "  {'n_neighbors': 19},\n",
              "  {'n_neighbors': 20},\n",
              "  {'n_neighbors': 21},\n",
              "  {'n_neighbors': 22},\n",
              "  {'n_neighbors': 23},\n",
              "  {'n_neighbors': 24},\n",
              "  {'n_neighbors': 25},\n",
              "  {'n_neighbors': 26},\n",
              "  {'n_neighbors': 27},\n",
              "  {'n_neighbors': 28},\n",
              "  {'n_neighbors': 29}],\n",
              " 'split0_test_score': array([0.89534884, 0.91860465, 0.91860465, 0.93023256, 0.91860465,\n",
              "        0.93023256, 0.91860465, 0.94186047, 0.94186047, 0.94186047,\n",
              "        0.94186047, 0.94186047, 0.94186047, 0.94186047, 0.94186047,\n",
              "        0.93023256, 0.94186047, 0.93023256, 0.93023256, 0.93023256,\n",
              "        0.93023256, 0.93023256, 0.93023256, 0.93023256, 0.93023256,\n",
              "        0.93023256, 0.93023256, 0.93023256]),\n",
              " 'split1_test_score': array([0.92941176, 0.96470588, 0.96470588, 0.97647059, 0.97647059,\n",
              "        0.96470588, 0.96470588, 0.95294118, 0.96470588, 0.95294118,\n",
              "        0.95294118, 0.95294118, 0.95294118, 0.95294118, 0.95294118,\n",
              "        0.95294118, 0.95294118, 0.95294118, 0.95294118, 0.94117647,\n",
              "        0.94117647, 0.94117647, 0.94117647, 0.92941176, 0.92941176,\n",
              "        0.91764706, 0.92941176, 0.92941176]),\n",
              " 'split2_test_score': array([0.89411765, 0.96470588, 0.89411765, 0.95294118, 0.94117647,\n",
              "        0.96470588, 0.95294118, 0.96470588, 0.96470588, 0.97647059,\n",
              "        0.96470588, 0.96470588, 0.95294118, 0.95294118, 0.95294118,\n",
              "        0.97647059, 0.97647059, 0.97647059, 0.97647059, 0.97647059,\n",
              "        0.97647059, 0.97647059, 0.97647059, 0.97647059, 0.97647059,\n",
              "        0.96470588, 0.95294118, 0.95294118]),\n",
              " 'split3_test_score': array([0.88235294, 0.88235294, 0.87058824, 0.85882353, 0.85882353,\n",
              "        0.87058824, 0.87058824, 0.87058824, 0.85882353, 0.84705882,\n",
              "        0.85882353, 0.84705882, 0.84705882, 0.84705882, 0.84705882,\n",
              "        0.84705882, 0.84705882, 0.84705882, 0.84705882, 0.84705882,\n",
              "        0.84705882, 0.83529412, 0.84705882, 0.84705882, 0.84705882,\n",
              "        0.83529412, 0.84705882, 0.83529412]),\n",
              " 'split4_test_score': array([0.89411765, 0.94117647, 0.95294118, 0.94117647, 0.92941176,\n",
              "        0.94117647, 0.94117647, 0.92941176, 0.92941176, 0.94117647,\n",
              "        0.92941176, 0.94117647, 0.94117647, 0.94117647, 0.92941176,\n",
              "        0.92941176, 0.92941176, 0.92941176, 0.92941176, 0.94117647,\n",
              "        0.92941176, 0.94117647, 0.92941176, 0.92941176, 0.94117647,\n",
              "        0.94117647, 0.94117647, 0.94117647]),\n",
              " 'mean_test_score': array([0.89906977, 0.93430917, 0.92019152, 0.93192886, 0.9248974 ,\n",
              "        0.93428181, 0.92960328, 0.9319015 , 0.9319015 , 0.9319015 ,\n",
              "        0.92954856, 0.92954856, 0.92719562, 0.92719562, 0.92484268,\n",
              "        0.92722298, 0.92954856, 0.92722298, 0.92722298, 0.92722298,\n",
              "        0.92487004, 0.92487004, 0.92487004, 0.9225171 , 0.92487004,\n",
              "        0.91781122, 0.92016416, 0.91781122]),\n",
              " 'std_test_score': array([0.01589328, 0.03111643, 0.03520488, 0.03964409, 0.03834198,\n",
              "        0.03456024, 0.03321004, 0.03281308, 0.03898211, 0.04430024,\n",
              "        0.03724751, 0.0421298 , 0.0403933 , 0.0403933 , 0.03984937,\n",
              "        0.04365064, 0.04405689, 0.04365064, 0.04365064, 0.0430118 ,\n",
              "        0.04250291, 0.04742788, 0.04250291, 0.04185578, 0.04250291,\n",
              "        0.04406457, 0.03754233, 0.04213783]),\n",
              " 'rank_test_score': array([28,  1, 24,  3, 17,  2,  7,  4,  4,  4,  8,  8, 15, 15, 22, 11,  8,\n",
              "        11, 11, 11, 18, 18, 18, 23, 18, 26, 25, 26], dtype=int32)}"
            ]
          },
          "metadata": {},
          "execution_count": 15
        }
      ]
    },
    {
      "cell_type": "code",
      "source": [],
      "metadata": {
        "id": "fhzujUoeC1Oe"
      },
      "execution_count": null,
      "outputs": []
    }
  ]
}