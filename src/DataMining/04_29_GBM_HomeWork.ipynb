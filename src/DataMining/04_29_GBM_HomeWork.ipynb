{
  "nbformat": 4,
  "nbformat_minor": 0,
  "metadata": {
    "colab": {
      "provenance": [],
      "authorship_tag": "ABX9TyNF3CkfAxpsFcl7FGUvKx31",
      "include_colab_link": true
    },
    "kernelspec": {
      "name": "python3",
      "display_name": "Python 3"
    },
    "language_info": {
      "name": "python"
    }
  },
  "cells": [
    {
      "cell_type": "markdown",
      "metadata": {
        "id": "view-in-github",
        "colab_type": "text"
      },
      "source": [
        "<a href=\"https://colab.research.google.com/github/signife/VentureStartUp/blob/main/src/DataMining/04_29_GBM_HomeWork.ipynb\" target=\"_parent\"><img src=\"https://colab.research.google.com/assets/colab-badge.svg\" alt=\"Open In Colab\"/></a>"
      ]
    },
    {
      "cell_type": "code",
      "execution_count": null,
      "metadata": {
        "colab": {
          "base_uri": "https://localhost:8080/"
        },
        "id": "YUHqaW7hfEzf",
        "outputId": "98048ac7-7ef6-4918-a5ff-655d114b820f"
      },
      "outputs": [
        {
          "output_type": "stream",
          "name": "stdout",
          "text": [
            "Accuracy: 1.0000\n"
          ]
        }
      ],
      "source": [
        "from sklearn.metrics import f1_score, accuracy_score\n",
        "from sklearn.ensemble import GradientBoostingClassifier\n",
        "from sklearn.datasets import load_wine\n",
        "from sklearn.model_selection import train_test_split\n",
        "import pandas as pd\n",
        "from sklearn.model_selection import GridSearchCV\n",
        "\n",
        "# 데이터 준비\n",
        "data = load_wine()\n",
        "X_train,X_test,y_train,y_test = train_test_split(data.data, data.target, stratify= data.target, random_state = 34)\n",
        "\n",
        "# 매개변수 범위 설정\n",
        "param_grid = {\n",
        "    'n_estimators': [50,100,200],\n",
        "    'max_depth': [3, 5, 7],\n",
        "    'learning_rate': [1.0,0.1,0.05, 0.01, 0.001]\n",
        "}\n",
        "# Grid Search 수행\n",
        "gbm = GradientBoostingClassifier(random_state = 34)\n",
        "grid_search = GridSearchCV(estimator=gbm, param_grid=param_grid, cv=5, scoring='accuracy')\n",
        "grid_search.fit(X_train, y_train)\n",
        "\n",
        "\n",
        "best_params = grid_search.best_params_\n",
        "best_score = grid_search.best_score_\n",
        "# 최적의 모델 생성\n",
        "best_model = GradientBoostingClassifier(n_estimators=best_params['n_estimators'],\n",
        "                                       max_depth=best_params['max_depth'],\n",
        "                                       learning_rate=best_params['learning_rate'])\n",
        "best_model.fit(X_train, y_train)\n",
        "\n",
        "y_pred = best_model.predict(X_test)\n",
        "accuracy = accuracy_score(y_test, y_pred)\n",
        "print(f\"Accuracy: {accuracy:.4f}\")\n"
      ]
    },
    {
      "cell_type": "code",
      "source": [],
      "metadata": {
        "id": "XqJtFhBbfKM5"
      },
      "execution_count": null,
      "outputs": []
    }
  ]
}